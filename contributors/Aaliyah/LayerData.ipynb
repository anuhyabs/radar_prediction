{
 "cells": [
  {
   "cell_type": "code",
   "execution_count": null,
   "id": "0473c08c-b655-4c74-9cad-2621097c450a",
   "metadata": {},
   "outputs": [],
   "source": [
    "--snow pit density\n",
    "SELECT DISTINCT depth, bottom_depth, value , date \n",
    "FROM public.layers WHERE pit_id = 'COGM8C22_20200131' and type = 'density' ORDER BY depth;\n"
   ]
  },
  {
   "cell_type": "code",
   "execution_count": null,
   "id": "8f43a87c-234d-42ff-a3fa-c2d1cf664477",
   "metadata": {},
   "outputs": [],
   "source": [
    "--snow pit temp\n",
    "SELECT DISTINCT depth, value , date \n",
    "FROM public.layers WHERE pit_id = 'COGM8C22_20200131' and type = 'temperature' ORDER BY depth;\n",
    " "
   ]
  }
 ],
 "metadata": {
  "kernelspec": {
   "display_name": "Python 3 (ipykernel)",
   "language": "python",
   "name": "python3"
  },
  "language_info": {
   "codemirror_mode": {
    "name": "ipython",
    "version": 3
   },
   "file_extension": ".py",
   "mimetype": "text/x-python",
   "name": "python",
   "nbconvert_exporter": "python",
   "pygments_lexer": "ipython3",
   "version": "3.10.5"
  }
 },
 "nbformat": 4,
 "nbformat_minor": 5
}
