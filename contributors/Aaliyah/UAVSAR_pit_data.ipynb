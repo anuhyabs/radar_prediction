{
 "cells": [
  {
   "cell_type": "markdown",
   "id": "7b00fcf9-f66e-4d71-9c2f-612ae47efabe",
   "metadata": {},
   "source": [
    "# UAVSAR Snow Pits \n",
    "Source: https://snowexsql.readthedocs.io/en/latest/gallery/raster_union_and_more_example.html"
   ]
  },
  {
   "cell_type": "code",
   "execution_count": 17,
   "id": "284bdee4-bcf3-451e-af7c-122103908dae",
   "metadata": {},
   "outputs": [],
   "source": [
    "from snowexsql.db import get_db\n",
    "from snowexsql.data import ImageData, SiteData\n",
    "from rasterio.plot import show\n",
    "from sqlalchemy.sql import func\n",
    "import geoalchemy2.functions as gfunc\n",
    "from geoalchemy2.types import Raster\n",
    "from geoalchemy2.shape import to_shape\n",
    "import geopandas as gpd\n",
    "from snowexsql.conversions import raster_to_rasterio\n",
    "from snowexsql.conversions import points_to_geopandas, query_to_geopandas\n",
    "import matplotlib.pyplot as z\n",
    "import numpy as np\n",
    "\n",
    "# Pit Site Identifier of interest\n",
    "#site_id = '5N19'\n",
    "site_name = 'Grand Mesa'\n",
    "# Distance around the pit to collect data in meters\n",
    "buffer_dist = 50\n",
    "\n",
    "# Connect to the database we made.\n",
    "db_name = 'snow:hackweek@db.snowexdata.org/snowex'\n",
    "engine, session = get_db(db_name)\n",
    "\n",
    "datasets = []\n",
    "\n",
    "# Grab our sites details by site id\n",
    "q = session.query(SiteData).filter(SiteData.site_name==site_name)\n",
    "sites = q.all()\n",
    "\n",
    "# Grab the pit location from a single layer\n",
    "p = sites[0].geom\n",
    "\n",
    "# Convert the point to a pyshapely\n",
    "pit = to_shape(p)\n",
    "\n",
    "# Convert it to a geopandas dataframe for easy plotting\n",
    "df_pit = gpd.GeoSeries(pit)"
   ]
  },
  {
   "cell_type": "code",
   "execution_count": 8,
   "id": "6a0041bc-a7b4-44e7-b5bf-074932355b21",
   "metadata": {},
   "outputs": [
    {
     "data": {
      "text/plain": [
       "0    POINT (742229.000 4326414.000)\n",
       "dtype: geometry"
      ]
     },
     "execution_count": 8,
     "metadata": {},
     "output_type": "execute_result"
    }
   ],
   "source": [
    "df_pit"
   ]
  },
  {
   "cell_type": "code",
   "execution_count": 18,
   "id": "c15c807a-291a-4b20-b0e6-38b270169e22",
   "metadata": {},
   "outputs": [],
   "source": [
    "# Create a polygon buffered by our distance centered on the pit\n",
    "q = session.query(gfunc.ST_Buffer(p, buffer_dist))\n",
    "buffered_pit = q.all()[0][0]\n",
    "\n",
    "# Convert to a shapely shapefile object\n",
    "circle = to_shape(buffered_pit)\n",
    "\n",
    "# Convert to a geopandas dataframe\n",
    "df_circle = gpd.GeoSeries(circle)"
   ]
  },
  {
   "cell_type": "code",
   "execution_count": 19,
   "id": "349dc740-a720-482a-94f0-04d740011ed8",
   "metadata": {},
   "outputs": [
    {
     "data": {
      "text/plain": [
       "0    POLYGON ((742279.000 4326414.000, 742278.039 4...\n",
       "dtype: geometry"
      ]
     },
     "execution_count": 19,
     "metadata": {},
     "output_type": "execute_result"
    }
   ],
   "source": [
    "df_circle"
   ]
  },
  {
   "cell_type": "code",
   "execution_count": 24,
   "id": "6f4acdd3-3d65-467c-985d-c75f5b4f0730",
   "metadata": {},
   "outputs": [],
   "source": [
    "# Grab the rasters, union them and convert them as tiff when done\n",
    "q = session.query(func.ST_AsTiff(func.ST_Union(ImageData.raster, type_=Raster)))\n",
    "\n",
    "# Only grab rasters that are the bare earth DEM from USGS\n",
    "q = q.filter(ImageData.type == 'DEM').filter(ImageData.observers=='USGS')\n",
    "\n",
    "# And grab rasters touching the circle\n",
    "q = q.filter(gfunc.ST_Intersects(ImageData.raster, buffered_pit))\n",
    "\n",
    "# Execute the query\n",
    "rasters = q.all()\n",
    "\n",
    "# Get the rasterio object of the raster\n",
    "dataset = raster_to_rasterio(session, rasters)[0]"
   ]
  },
  {
   "cell_type": "code",
   "execution_count": 21,
   "id": "7ff46113-ca25-43af-a0cc-62fe7473a194",
   "metadata": {},
   "outputs": [
    {
     "data": {
      "text/plain": [
       "[(<memory at 0x7fc58ae590c0>,)]"
      ]
     },
     "execution_count": 21,
     "metadata": {},
     "output_type": "execute_result"
    }
   ],
   "source": [
    "rasters"
   ]
  },
  {
   "cell_type": "code",
   "execution_count": 28,
   "id": "ce939a7b-9b3c-40ae-b3f7-5b957e39097d",
   "metadata": {},
   "outputs": [
    {
     "data": {
      "text/plain": [
       "array([[3052.2861, 3052.2805, 3052.3496, ..., 3060.698 , 3060.7405,\n",
       "        3060.779 ],\n",
       "       [3052.3728, 3052.3406, 3052.329 , ..., 3060.717 , 3060.7756,\n",
       "        3060.8113],\n",
       "       [3052.4536, 3052.4268, 3052.372 , ..., 3060.7336, 3060.8022,\n",
       "        3060.852 ],\n",
       "       ...,\n",
       "       [3060.9426, 3060.9329, 3060.9365, ..., 3055.076 , 3055.0554,\n",
       "        3055.093 ],\n",
       "       [3060.9563, 3060.9727, 3060.987 , ..., 3055.0227, 3054.9731,\n",
       "        3055.0076],\n",
       "       [3060.9639, 3060.9844, 3061.0007, ..., 3054.9504, 3054.8977,\n",
       "        3054.9104]], dtype=float32)"
      ]
     },
     "execution_count": 28,
     "metadata": {},
     "output_type": "execute_result"
    }
   ],
   "source": [
    "dataset.read(1)"
   ]
  },
  {
   "cell_type": "code",
   "execution_count": 31,
   "id": "d63275e1-d122-41e8-ab21-4633951298d7",
   "metadata": {},
   "outputs": [
    {
     "data": {
      "text/plain": [
       "3056.2156896591187"
      ]
     },
     "execution_count": 31,
     "metadata": {},
     "output_type": "execute_result"
    }
   ],
   "source": [
    "sum(dataset.read(1)[0])/len(dataset.read(1)[0])"
   ]
  },
  {
   "cell_type": "code",
   "execution_count": 38,
   "id": "f4315880-53cb-483a-8ddc-24770b43c5d1",
   "metadata": {},
   "outputs": [],
   "source": [
    "def average_amplitudes(raster):\n",
    "    \"\"\"\n",
    "    input: 2 dimensional array of list of amplitudes over multiple rasters\n",
    "    output: average amplitude over entire raster\n",
    "    \"\"\"\n",
    "    #create a variable to average each individual raster\n",
    "    single_avgs = []\n",
    "    #iterate over all rasters\n",
    "    for i in range(len(raster)): \n",
    "        #compute and append the mean of the raster \n",
    "        single_avgs.append(sum(dataset.read(1)[i])/len(dataset.read(1)[i]))\n",
    "    \n",
    "    #compute the average amplitude over all rasters\n",
    "    avg_amp = sum(single_avgs)/len(single_avgs) \n",
    "    \n",
    "    return avg_amp"
   ]
  },
  {
   "cell_type": "code",
   "execution_count": 39,
   "id": "a552cc1b-c055-4f4a-a1cf-4a0c1746c32e",
   "metadata": {},
   "outputs": [
    {
     "data": {
      "text/plain": [
       "3059.2608363013715"
      ]
     },
     "execution_count": 39,
     "metadata": {},
     "output_type": "execute_result"
    }
   ],
   "source": [
    "average_amplitudes(dataset.read(1))"
   ]
  },
  {
   "cell_type": "code",
   "execution_count": 11,
   "id": "3fb5fe86-e31e-4278-925c-cd36976662e1",
   "metadata": {},
   "outputs": [],
   "source": [
    "# Form a query for retrieving the sites that are within the circle\n",
    "q = session.query(SiteData.geom).filter(gfunc.ST_Within(SiteData.geom, buffered_pit))\n",
    "\n",
    "# Create a geopandas dataframe of SiteData geometry in the circle\n",
    "nearby_pits = query_to_geopandas(q, engine)"
   ]
  },
  {
   "cell_type": "code",
   "execution_count": 12,
   "id": "3b33050f-962e-463d-bef7-ba39faee99c2",
   "metadata": {},
   "outputs": [
    {
     "data": {
      "text/html": [
       "<div>\n",
       "<style scoped>\n",
       "    .dataframe tbody tr th:only-of-type {\n",
       "        vertical-align: middle;\n",
       "    }\n",
       "\n",
       "    .dataframe tbody tr th {\n",
       "        vertical-align: top;\n",
       "    }\n",
       "\n",
       "    .dataframe thead th {\n",
       "        text-align: right;\n",
       "    }\n",
       "</style>\n",
       "<table border=\"1\" class=\"dataframe\">\n",
       "  <thead>\n",
       "    <tr style=\"text-align: right;\">\n",
       "      <th></th>\n",
       "      <th>geom</th>\n",
       "    </tr>\n",
       "  </thead>\n",
       "  <tbody>\n",
       "    <tr>\n",
       "      <th>0</th>\n",
       "      <td>POINT (742229.000 4326414.000)</td>\n",
       "    </tr>\n",
       "  </tbody>\n",
       "</table>\n",
       "</div>"
      ],
      "text/plain": [
       "                             geom\n",
       "0  POINT (742229.000 4326414.000)"
      ]
     },
     "execution_count": 12,
     "metadata": {},
     "output_type": "execute_result"
    }
   ],
   "source": [
    "nearby_pits"
   ]
  },
  {
   "cell_type": "code",
   "execution_count": 13,
   "id": "abefae43-0212-4697-b39d-504bf27cabfa",
   "metadata": {},
   "outputs": [
    {
     "ename": "NameError",
     "evalue": "name 'dataset' is not defined",
     "output_type": "error",
     "traceback": [
      "\u001b[0;31m---------------------------------------------------------------------------\u001b[0m",
      "\u001b[0;31mNameError\u001b[0m                                 Traceback (most recent call last)",
      "Input \u001b[0;32mIn [13]\u001b[0m, in \u001b[0;36m<cell line: 5>\u001b[0;34m()\u001b[0m\n\u001b[1;32m      2\u001b[0m fig, ax \u001b[38;5;241m=\u001b[39m plt\u001b[38;5;241m.\u001b[39msubplots(figsize\u001b[38;5;241m=\u001b[39m(\u001b[38;5;241m8\u001b[39m,\u001b[38;5;241m8\u001b[39m))\n\u001b[1;32m      4\u001b[0m \u001b[38;5;66;03m# Plot the DEM\u001b[39;00m\n\u001b[0;32m----> 5\u001b[0m img \u001b[38;5;241m=\u001b[39m show(\u001b[43mdataset\u001b[49m\u001b[38;5;241m.\u001b[39mread(\u001b[38;5;241m1\u001b[39m), ax\u001b[38;5;241m=\u001b[39max, transform\u001b[38;5;241m=\u001b[39mdataset\u001b[38;5;241m.\u001b[39mtransform, cmap\u001b[38;5;241m=\u001b[39m\u001b[38;5;124m'\u001b[39m\u001b[38;5;124mterrain\u001b[39m\u001b[38;5;124m'\u001b[39m)\n\u001b[1;32m      7\u001b[0m \u001b[38;5;66;03m# Plot the contours of the DEM (Just for kicks!) at 10m intervals\u001b[39;00m\n\u001b[1;32m      8\u001b[0m show(dataset\u001b[38;5;241m.\u001b[39mread(\u001b[38;5;241m1\u001b[39m), contour\u001b[38;5;241m=\u001b[39m\u001b[38;5;28;01mTrue\u001b[39;00m, levels\u001b[38;5;241m=\u001b[39m[s \u001b[38;5;28;01mfor\u001b[39;00m s \u001b[38;5;129;01min\u001b[39;00m np\u001b[38;5;241m.\u001b[39marange(\u001b[38;5;241m3000\u001b[39m, \u001b[38;5;241m4000\u001b[39m, \u001b[38;5;241m10\u001b[39m)], colors\u001b[38;5;241m=\u001b[39m\u001b[38;5;124m'\u001b[39m\u001b[38;5;124mdimgray\u001b[39m\u001b[38;5;124m'\u001b[39m, ax\u001b[38;5;241m=\u001b[39max, transform\u001b[38;5;241m=\u001b[39mdataset\u001b[38;5;241m.\u001b[39mtransform)\n",
      "\u001b[0;31mNameError\u001b[0m: name 'dataset' is not defined"
     ]
    },
    {
     "data": {
      "image/png": "[encoded data removed]",
      "text/plain": [
       "<Figure size 576x576 with 1 Axes>"
      ]
     },
     "metadata": {
      "needs_background": "light"
     },
     "output_type": "display_data"
    }
   ],
   "source": [
    "# Create a single plot to add everything to\n",
    "fig, ax = plt.subplots(figsize=(8,8))\n",
    "\n",
    "# Plot the DEM\n",
    "img = show(dataset.read(1), ax=ax, transform=dataset.transform, cmap='terrain')\n",
    "\n",
    "# Plot the contours of the DEM (Just for kicks!) at 10m intervals\n",
    "show(dataset.read(1), contour=True, levels=[s for s in np.arange(3000, 4000, 10)], colors='dimgray', ax=ax, transform=dataset.transform)\n",
    "\n",
    "# Plot the circle as blue with slight transparency\n",
    "df_circle.plot(ax=ax, color='b', alpha=0.4, edgecolor='black')\n",
    "\n",
    "# Plot the nearby pits as purple triangles\n",
    "nearby_pits.plot(ax=ax, color='purple', marker='^', label='Nearby Pits',  edgecolor='black', markersize=150)\n",
    "\n",
    "# Plot pit as a red triangle\n",
    "df_pit.plot(ax=ax, color='r', marker='^', label=site_id,  edgecolor='black', markersize=150)\n",
    "\n",
    "# Don't use scientific notation on the axis ticks\n",
    "ax.ticklabel_format(style='plain', useOffset=False)\n",
    "\n",
    "# Add x/y labels, a title, a legend and avoid overlapping labels\n",
    "ax.set_xlabel('Easting [m]')\n",
    "ax.set_ylabel('Northing [m]')\n",
    "ax.set_title('Pit {} w/ {}m Radius Circle on USGS DEM'.format(site_id, buffer_dist))\n",
    "ax.legend()\n",
    "plt.tight_layout()"
   ]
  },
  {
   "cell_type": "code",
   "execution_count": null,
   "id": "fc1f8456-6e04-4a31-bfb7-69446ff6b9ce",
   "metadata": {},
   "outputs": [],
   "source": []
  },
  {
   "cell_type": "code",
   "execution_count": null,
   "id": "e2319eb7-5a49-4a78-a6e5-5599555d86a4",
   "metadata": {},
   "outputs": [],
   "source": []
  },
  {
   "cell_type": "markdown",
   "id": "a35bed9e-b49f-4766-a6c2-9be5f044a634",
   "metadata": {},
   "source": [
    "# Merging Amplitudes"
   ]
  },
  {
   "cell_type": "code",
   "execution_count": 1,
   "id": "14f77d08-87a1-47d9-aea5-83c683c288d1",
   "metadata": {},
   "outputs": [],
   "source": [
    "import pandas as pd"
   ]
  },
  {
   "cell_type": "code",
   "execution_count": 3,
   "id": "037f34a8-104d-4db7-b046-3a156932d75d",
   "metadata": {},
   "outputs": [],
   "source": [
    "def average_polarizations(csv1, csv2):\n",
    "    \"\"\"\n",
    "    Input: two csv name paths, each containing a pit_id and amplitude\n",
    "    \n",
    "    Output: Pandas dataframe containing pit_id's and average amperage between the two\n",
    "    \n",
    "    \"\"\"\n",
    "    #read in files\n",
    "    c1 = pd.read_csv(csv1)\n",
    "    c2 = pd.read_csv(csv2)\n",
    "    \n",
    "    #rename columns, remove unnamed index columns\n",
    "    c1 = c1[['0', '1']]\n",
    "    c1.columns = ['pit_id', 'c1_amp']\n",
    "    c2 = c2[['0', '1']]\n",
    "    c2.columns = ['pit_id', 'c2_amp']\n",
    "    \n",
    "    #merge together on pit_id\n",
    "    polars = c1.merge(c2, on=['pit_id'], how='left')\n",
    "    polars['avg_amp'] = (polars.c1_amp + polars.c2_amp) / 2\n",
    "    \n",
    "    return polars[['pit_id', 'avg_amp']]"
   ]
  },
  {
   "cell_type": "code",
   "execution_count": 7,
   "id": "5d1e741e-548b-4f7a-9ffe-905c1d50c20e",
   "metadata": {},
   "outputs": [
    {
     "data": {
      "text/html": [
       "<div>\n",
       "<style scoped>\n",
       "    .dataframe tbody tr th:only-of-type {\n",
       "        vertical-align: middle;\n",
       "    }\n",
       "\n",
       "    .dataframe tbody tr th {\n",
       "        vertical-align: top;\n",
       "    }\n",
       "\n",
       "    .dataframe thead th {\n",
       "        text-align: right;\n",
       "    }\n",
       "</style>\n",
       "<table border=\"1\" class=\"dataframe\">\n",
       "  <thead>\n",
       "    <tr style=\"text-align: right;\">\n",
       "      <th></th>\n",
       "      <th>pit_id</th>\n",
       "      <th>avg_amp</th>\n",
       "    </tr>\n",
       "  </thead>\n",
       "  <tbody>\n",
       "    <tr>\n",
       "      <th>0</th>\n",
       "      <td>COGM2S37_20200201</td>\n",
       "      <td>0.090272</td>\n",
       "    </tr>\n",
       "    <tr>\n",
       "      <th>1</th>\n",
       "      <td>COGMSO_20200321_1006</td>\n",
       "      <td>0.151810</td>\n",
       "    </tr>\n",
       "    <tr>\n",
       "      <th>2</th>\n",
       "      <td>COGM5S31_20200130</td>\n",
       "      <td>0.090272</td>\n",
       "    </tr>\n",
       "    <tr>\n",
       "      <th>3</th>\n",
       "      <td>COGMCO_20200318_0825</td>\n",
       "      <td>0.149241</td>\n",
       "    </tr>\n",
       "    <tr>\n",
       "      <th>4</th>\n",
       "      <td>COGM2C2_20200131</td>\n",
       "      <td>0.071491</td>\n",
       "    </tr>\n",
       "  </tbody>\n",
       "</table>\n",
       "</div>"
      ],
      "text/plain": [
       "                 pit_id   avg_amp\n",
       "0     COGM2S37_20200201  0.090272\n",
       "1  COGMSO_20200321_1006  0.151810\n",
       "2     COGM5S31_20200130  0.090272\n",
       "3  COGMCO_20200318_0825  0.149241\n",
       "4      COGM2C2_20200131  0.071491"
      ]
     },
     "execution_count": 7,
     "metadata": {},
     "output_type": "execute_result"
    }
   ],
   "source": [
    "HH1 = '../Anuhya/amplitudes_HH.csv'\n",
    "HH2 = '../Anuhya/amplitudes_HH2.csv'\n",
    "HH_avg = average_polarizations(HH1, HH2)\n",
    "HH_avg.head()"
   ]
  },
  {
   "cell_type": "code",
   "execution_count": 9,
   "id": "6604b678-2b67-4477-ab37-685736ede28f",
   "metadata": {},
   "outputs": [
    {
     "data": {
      "text/html": [
       "<div>\n",
       "<style scoped>\n",
       "    .dataframe tbody tr th:only-of-type {\n",
       "        vertical-align: middle;\n",
       "    }\n",
       "\n",
       "    .dataframe tbody tr th {\n",
       "        vertical-align: top;\n",
       "    }\n",
       "\n",
       "    .dataframe thead th {\n",
       "        text-align: right;\n",
       "    }\n",
       "</style>\n",
       "<table border=\"1\" class=\"dataframe\">\n",
       "  <thead>\n",
       "    <tr style=\"text-align: right;\">\n",
       "      <th></th>\n",
       "      <th>pit_id</th>\n",
       "      <th>avg_amp</th>\n",
       "    </tr>\n",
       "  </thead>\n",
       "  <tbody>\n",
       "    <tr>\n",
       "      <th>0</th>\n",
       "      <td>COGM2S37_20200201</td>\n",
       "      <td>0.033710</td>\n",
       "    </tr>\n",
       "    <tr>\n",
       "      <th>1</th>\n",
       "      <td>COGMSO_20200321_1006</td>\n",
       "      <td>0.054633</td>\n",
       "    </tr>\n",
       "    <tr>\n",
       "      <th>2</th>\n",
       "      <td>COGM5S31_20200130</td>\n",
       "      <td>0.033710</td>\n",
       "    </tr>\n",
       "    <tr>\n",
       "      <th>3</th>\n",
       "      <td>COGMCO_20200318_0825</td>\n",
       "      <td>0.049581</td>\n",
       "    </tr>\n",
       "    <tr>\n",
       "      <th>4</th>\n",
       "      <td>COGM2C2_20200131</td>\n",
       "      <td>0.022654</td>\n",
       "    </tr>\n",
       "  </tbody>\n",
       "</table>\n",
       "</div>"
      ],
      "text/plain": [
       "                 pit_id   avg_amp\n",
       "0     COGM2S37_20200201  0.033710\n",
       "1  COGMSO_20200321_1006  0.054633\n",
       "2     COGM5S31_20200130  0.033710\n",
       "3  COGMCO_20200318_0825  0.049581\n",
       "4      COGM2C2_20200131  0.022654"
      ]
     },
     "execution_count": 9,
     "metadata": {},
     "output_type": "execute_result"
    }
   ],
   "source": [
    "HV1 = '../Anuhya/amplitudes_HV.csv'\n",
    "HV2 = '../Anuhya/amplitudes_HV2.csv'\n",
    "HV_avg = average_polarizations(HV1, HV2)\n",
    "HV_avg.head()"
   ]
  },
  {
   "cell_type": "code",
   "execution_count": 10,
   "id": "625c7e75-3be9-40f0-9550-fc251508dc7f",
   "metadata": {},
   "outputs": [
    {
     "data": {
      "text/html": [
       "<div>\n",
       "<style scoped>\n",
       "    .dataframe tbody tr th:only-of-type {\n",
       "        vertical-align: middle;\n",
       "    }\n",
       "\n",
       "    .dataframe tbody tr th {\n",
       "        vertical-align: top;\n",
       "    }\n",
       "\n",
       "    .dataframe thead th {\n",
       "        text-align: right;\n",
       "    }\n",
       "</style>\n",
       "<table border=\"1\" class=\"dataframe\">\n",
       "  <thead>\n",
       "    <tr style=\"text-align: right;\">\n",
       "      <th></th>\n",
       "      <th>pit_id</th>\n",
       "      <th>avg_amp</th>\n",
       "    </tr>\n",
       "  </thead>\n",
       "  <tbody>\n",
       "    <tr>\n",
       "      <th>0</th>\n",
       "      <td>COGM2S37_20200201</td>\n",
       "      <td>0.071622</td>\n",
       "    </tr>\n",
       "    <tr>\n",
       "      <th>1</th>\n",
       "      <td>COGMSO_20200321_1006</td>\n",
       "      <td>0.123060</td>\n",
       "    </tr>\n",
       "    <tr>\n",
       "      <th>2</th>\n",
       "      <td>COGM5S31_20200130</td>\n",
       "      <td>0.071622</td>\n",
       "    </tr>\n",
       "    <tr>\n",
       "      <th>3</th>\n",
       "      <td>COGMCO_20200318_0825</td>\n",
       "      <td>0.103564</td>\n",
       "    </tr>\n",
       "    <tr>\n",
       "      <th>4</th>\n",
       "      <td>COGM2C2_20200131</td>\n",
       "      <td>0.068166</td>\n",
       "    </tr>\n",
       "  </tbody>\n",
       "</table>\n",
       "</div>"
      ],
      "text/plain": [
       "                 pit_id   avg_amp\n",
       "0     COGM2S37_20200201  0.071622\n",
       "1  COGMSO_20200321_1006  0.123060\n",
       "2     COGM5S31_20200130  0.071622\n",
       "3  COGMCO_20200318_0825  0.103564\n",
       "4      COGM2C2_20200131  0.068166"
      ]
     },
     "execution_count": 10,
     "metadata": {},
     "output_type": "execute_result"
    }
   ],
   "source": [
    "VV1 = '../Anuhya/amplitudes_VV.csv'\n",
    "VV2 = '../Anuhya/amplitudes_VV2.csv'\n",
    "VV_avg = average_polarizations(VV1, VV2)\n",
    "VV_avg.head()"
   ]
  },
  {
   "cell_type": "code",
   "execution_count": 11,
   "id": "775da281-78a6-428d-966a-d371c98235f7",
   "metadata": {},
   "outputs": [
    {
     "data": {
      "text/html": [
       "<div>\n",
       "<style scoped>\n",
       "    .dataframe tbody tr th:only-of-type {\n",
       "        vertical-align: middle;\n",
       "    }\n",
       "\n",
       "    .dataframe tbody tr th {\n",
       "        vertical-align: top;\n",
       "    }\n",
       "\n",
       "    .dataframe thead th {\n",
       "        text-align: right;\n",
       "    }\n",
       "</style>\n",
       "<table border=\"1\" class=\"dataframe\">\n",
       "  <thead>\n",
       "    <tr style=\"text-align: right;\">\n",
       "      <th></th>\n",
       "      <th>pit_id</th>\n",
       "      <th>avg_amp</th>\n",
       "    </tr>\n",
       "  </thead>\n",
       "  <tbody>\n",
       "    <tr>\n",
       "      <th>0</th>\n",
       "      <td>COGM2S37_20200201</td>\n",
       "      <td>0.034575</td>\n",
       "    </tr>\n",
       "    <tr>\n",
       "      <th>1</th>\n",
       "      <td>COGMSO_20200321_1006</td>\n",
       "      <td>0.054984</td>\n",
       "    </tr>\n",
       "    <tr>\n",
       "      <th>2</th>\n",
       "      <td>COGM5S31_20200130</td>\n",
       "      <td>0.034575</td>\n",
       "    </tr>\n",
       "    <tr>\n",
       "      <th>3</th>\n",
       "      <td>COGMCO_20200318_0825</td>\n",
       "      <td>0.047769</td>\n",
       "    </tr>\n",
       "    <tr>\n",
       "      <th>4</th>\n",
       "      <td>COGM2C2_20200131</td>\n",
       "      <td>0.025515</td>\n",
       "    </tr>\n",
       "  </tbody>\n",
       "</table>\n",
       "</div>"
      ],
      "text/plain": [
       "                 pit_id   avg_amp\n",
       "0     COGM2S37_20200201  0.034575\n",
       "1  COGMSO_20200321_1006  0.054984\n",
       "2     COGM5S31_20200130  0.034575\n",
       "3  COGMCO_20200318_0825  0.047769\n",
       "4      COGM2C2_20200131  0.025515"
      ]
     },
     "execution_count": 11,
     "metadata": {},
     "output_type": "execute_result"
    }
   ],
   "source": [
    "VH1 = '../Anuhya/amplitudes_VH.csv'\n",
    "VH2 = '../Anuhya/amplitudes_VH2.csv'\n",
    "VH_avg = average_polarizations(VH1, VH2)\n",
    "VH_avg.head()"
   ]
  },
  {
   "cell_type": "code",
   "execution_count": 12,
   "id": "62d5484b-cdff-43da-ab76-97c1b940126f",
   "metadata": {},
   "outputs": [
    {
     "data": {
      "text/html": [
       "<div>\n",
       "<style scoped>\n",
       "    .dataframe tbody tr th:only-of-type {\n",
       "        vertical-align: middle;\n",
       "    }\n",
       "\n",
       "    .dataframe tbody tr th {\n",
       "        vertical-align: top;\n",
       "    }\n",
       "\n",
       "    .dataframe thead th {\n",
       "        text-align: right;\n",
       "    }\n",
       "</style>\n",
       "<table border=\"1\" class=\"dataframe\">\n",
       "  <thead>\n",
       "    <tr style=\"text-align: right;\">\n",
       "      <th></th>\n",
       "      <th>pit_id</th>\n",
       "      <th>HH</th>\n",
       "      <th>HV</th>\n",
       "      <th>VH</th>\n",
       "      <th>VV</th>\n",
       "    </tr>\n",
       "  </thead>\n",
       "  <tbody>\n",
       "    <tr>\n",
       "      <th>0</th>\n",
       "      <td>COGM2S37_20200201</td>\n",
       "      <td>0.090272</td>\n",
       "      <td>0.033710</td>\n",
       "      <td>0.034575</td>\n",
       "      <td>0.071622</td>\n",
       "    </tr>\n",
       "    <tr>\n",
       "      <th>1</th>\n",
       "      <td>COGMSO_20200321_1006</td>\n",
       "      <td>0.151810</td>\n",
       "      <td>0.054633</td>\n",
       "      <td>0.054984</td>\n",
       "      <td>0.123060</td>\n",
       "    </tr>\n",
       "    <tr>\n",
       "      <th>2</th>\n",
       "      <td>COGM5S31_20200130</td>\n",
       "      <td>0.090272</td>\n",
       "      <td>0.033710</td>\n",
       "      <td>0.034575</td>\n",
       "      <td>0.071622</td>\n",
       "    </tr>\n",
       "    <tr>\n",
       "      <th>3</th>\n",
       "      <td>COGMCO_20200318_0825</td>\n",
       "      <td>0.149241</td>\n",
       "      <td>0.049581</td>\n",
       "      <td>0.047769</td>\n",
       "      <td>0.103564</td>\n",
       "    </tr>\n",
       "    <tr>\n",
       "      <th>4</th>\n",
       "      <td>COGM2C2_20200131</td>\n",
       "      <td>0.071491</td>\n",
       "      <td>0.022654</td>\n",
       "      <td>0.025515</td>\n",
       "      <td>0.068166</td>\n",
       "    </tr>\n",
       "    <tr>\n",
       "      <th>...</th>\n",
       "      <td>...</td>\n",
       "      <td>...</td>\n",
       "      <td>...</td>\n",
       "      <td>...</td>\n",
       "      <td>...</td>\n",
       "    </tr>\n",
       "    <tr>\n",
       "      <th>123</th>\n",
       "      <td>COGM2S3_20200129</td>\n",
       "      <td>0.069852</td>\n",
       "      <td>0.027647</td>\n",
       "      <td>0.032221</td>\n",
       "      <td>0.069523</td>\n",
       "    </tr>\n",
       "    <tr>\n",
       "      <th>124</th>\n",
       "      <td>COGMSO_20191219_1600</td>\n",
       "      <td>0.151810</td>\n",
       "      <td>0.054633</td>\n",
       "      <td>0.054984</td>\n",
       "      <td>0.123060</td>\n",
       "    </tr>\n",
       "    <tr>\n",
       "      <th>125</th>\n",
       "      <td>COGM1N20_20200205</td>\n",
       "      <td>0.094391</td>\n",
       "      <td>0.034148</td>\n",
       "      <td>0.036019</td>\n",
       "      <td>0.078598</td>\n",
       "    </tr>\n",
       "    <tr>\n",
       "      <th>126</th>\n",
       "      <td>COGM2S35_20200130</td>\n",
       "      <td>0.090272</td>\n",
       "      <td>0.033710</td>\n",
       "      <td>0.034575</td>\n",
       "      <td>0.071622</td>\n",
       "    </tr>\n",
       "    <tr>\n",
       "      <th>127</th>\n",
       "      <td>COGMSO_20200131_1225</td>\n",
       "      <td>0.151810</td>\n",
       "      <td>0.054633</td>\n",
       "      <td>0.054984</td>\n",
       "      <td>0.123060</td>\n",
       "    </tr>\n",
       "  </tbody>\n",
       "</table>\n",
       "<p>128 rows × 5 columns</p>\n",
       "</div>"
      ],
      "text/plain": [
       "                   pit_id        HH        HV        VH        VV\n",
       "0       COGM2S37_20200201  0.090272  0.033710  0.034575  0.071622\n",
       "1    COGMSO_20200321_1006  0.151810  0.054633  0.054984  0.123060\n",
       "2       COGM5S31_20200130  0.090272  0.033710  0.034575  0.071622\n",
       "3    COGMCO_20200318_0825  0.149241  0.049581  0.047769  0.103564\n",
       "4        COGM2C2_20200131  0.071491  0.022654  0.025515  0.068166\n",
       "..                    ...       ...       ...       ...       ...\n",
       "123      COGM2S3_20200129  0.069852  0.027647  0.032221  0.069523\n",
       "124  COGMSO_20191219_1600  0.151810  0.054633  0.054984  0.123060\n",
       "125     COGM1N20_20200205  0.094391  0.034148  0.036019  0.078598\n",
       "126     COGM2S35_20200130  0.090272  0.033710  0.034575  0.071622\n",
       "127  COGMSO_20200131_1225  0.151810  0.054633  0.054984  0.123060\n",
       "\n",
       "[128 rows x 5 columns]"
      ]
     },
     "execution_count": 12,
     "metadata": {},
     "output_type": "execute_result"
    }
   ],
   "source": [
    "HH_avg.columns = ['pit_id', 'HH']\n",
    "HV_avg.columns = ['pit_id', 'HV']\n",
    "VV_avg.columns = ['pit_id', 'VV']\n",
    "VH_avg.columns = ['pit_id', 'VH']\n",
    "\n",
    "Amplitudes = HH_avg.merge(HV_avg, on='pit_id', how='left')\n",
    "Amplitudes = Amplitudes.merge(VH_avg, on='pit_id', how='left')\n",
    "Amplitudes = Amplitudes.merge(VV_avg, on='pit_id', how='left')\n",
    "Amplitudes"
   ]
  },
  {
   "cell_type": "code",
   "execution_count": 16,
   "id": "4a03f405-01e8-42f7-9a42-6f436134c061",
   "metadata": {},
   "outputs": [],
   "source": [
    "data = pd.read_csv('../Shrusti/final_data.csv')"
   ]
  },
  {
   "cell_type": "code",
   "execution_count": 15,
   "id": "893696c5-6bd0-4bdf-9f97-30866f85c3ae",
   "metadata": {},
   "outputs": [
    {
     "data": {
      "text/html": [
       "<div>\n",
       "<style scoped>\n",
       "    .dataframe tbody tr th:only-of-type {\n",
       "        vertical-align: middle;\n",
       "    }\n",
       "\n",
       "    .dataframe tbody tr th {\n",
       "        vertical-align: top;\n",
       "    }\n",
       "\n",
       "    .dataframe thead th {\n",
       "        text-align: right;\n",
       "    }\n",
       "</style>\n",
       "<table border=\"1\" class=\"dataframe\">\n",
       "  <thead>\n",
       "    <tr style=\"text-align: right;\">\n",
       "      <th></th>\n",
       "      <th>pit_id</th>\n",
       "      <th>height</th>\n",
       "      <th>grain_size</th>\n",
       "      <th>density</th>\n",
       "      <th>temperature</th>\n",
       "    </tr>\n",
       "  </thead>\n",
       "  <tbody>\n",
       "    <tr>\n",
       "      <th>0</th>\n",
       "      <td>COGM1C1_20200131</td>\n",
       "      <td>83</td>\n",
       "      <td>1.375000</td>\n",
       "      <td>249.388889</td>\n",
       "      <td>-5.710000</td>\n",
       "    </tr>\n",
       "    <tr>\n",
       "      <th>1</th>\n",
       "      <td>COGM1C1_20200208</td>\n",
       "      <td>77</td>\n",
       "      <td>1.571429</td>\n",
       "      <td>289.187500</td>\n",
       "      <td>-4.822222</td>\n",
       "    </tr>\n",
       "    <tr>\n",
       "      <th>2</th>\n",
       "      <td>COGM1C14_20200131</td>\n",
       "      <td>81</td>\n",
       "      <td>2.150000</td>\n",
       "      <td>263.142857</td>\n",
       "      <td>-5.488889</td>\n",
       "    </tr>\n",
       "    <tr>\n",
       "      <th>3</th>\n",
       "      <td>COGM1C5_20200212</td>\n",
       "      <td>75</td>\n",
       "      <td>1.416667</td>\n",
       "      <td>302.833333</td>\n",
       "      <td>-6.577778</td>\n",
       "    </tr>\n",
       "    <tr>\n",
       "      <th>4</th>\n",
       "      <td>COGM1C7_20200131</td>\n",
       "      <td>96</td>\n",
       "      <td>1.750000</td>\n",
       "      <td>277.833333</td>\n",
       "      <td>-5.990909</td>\n",
       "    </tr>\n",
       "  </tbody>\n",
       "</table>\n",
       "</div>"
      ],
      "text/plain": [
       "              pit_id  height  grain_size     density  temperature\n",
       "0   COGM1C1_20200131      83    1.375000  249.388889    -5.710000\n",
       "1   COGM1C1_20200208      77    1.571429  289.187500    -4.822222\n",
       "2  COGM1C14_20200131      81    2.150000  263.142857    -5.488889\n",
       "3   COGM1C5_20200212      75    1.416667  302.833333    -6.577778\n",
       "4   COGM1C7_20200131      96    1.750000  277.833333    -5.990909"
      ]
     },
     "execution_count": 15,
     "metadata": {},
     "output_type": "execute_result"
    }
   ],
   "source": [
    "pits = data[['pit_id', 'height', 'grain_size', 'density', 'temperature']]\n",
    "pits.head()"
   ]
  },
  {
   "cell_type": "code",
   "execution_count": 18,
   "id": "00639e63-0d12-4d86-81d0-02aceabc7a24",
   "metadata": {},
   "outputs": [],
   "source": [
    "final_data = Amplitudes.merge(pits, how = 'left', on = 'pit_id')"
   ]
  },
  {
   "cell_type": "code",
   "execution_count": 19,
   "id": "152ec9a4-5e2d-4236-9106-d5e33e579ee5",
   "metadata": {},
   "outputs": [],
   "source": [
    "final_data.to_csv('final_data(2).csv')"
   ]
  }
 ],
 "metadata": {
  "kernelspec": {
   "display_name": "Python 3 (ipykernel)",
   "language": "python",
   "name": "python3"
  },
  "language_info": {
   "codemirror_mode": {
    "name": "ipython",
    "version": 3
   },
   "file_extension": ".py",
   "mimetype": "text/x-python",
   "name": "python",
   "nbconvert_exporter": "python",
   "pygments_lexer": "ipython3",
   "version": "3.10.5"
  }
 },
 "nbformat": 4,
 "nbformat_minor": 5
}
