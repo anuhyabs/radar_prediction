{
 "cells": [
  {
   "cell_type": "code",
   "execution_count": 40,
   "id": "fb6d7300-ba99-42df-a727-bcc568efa206",
   "metadata": {},
   "outputs": [],
   "source": [
    "from snowexsql.db import get_db\n",
    "from snowexsql.data import ImageData, SiteData, LayerData\n",
    "from rasterio.plot import show\n",
    "from sqlalchemy.sql import func\n",
    "import geoalchemy2.functions as gfunc\n",
    "from geoalchemy2.types import Raster\n",
    "from geoalchemy2.shape import to_shape\n",
    "import geopandas as gpd\n",
    "from snowexsql.conversions import raster_to_rasterio\n",
    "from snowexsql.conversions import points_to_geopandas, query_to_geopandas, query_to_pandas\n",
    "import matplotlib.pyplot as plt\n",
    "import numpy as np\n",
    "from datetime import date\n",
    "import pandas as pd"
   ]
  },
  {
   "cell_type": "code",
   "execution_count": 37,
   "id": "c0a0a08f-03ae-4583-8fc3-605adf98637f",
   "metadata": {},
   "outputs": [
    {
     "name": "stdout",
     "output_type": "stream",
     "text": [
      "[('COGM1C1_20200131', 0.05852198625437666), ('COGM1C1_20200208', 0.05852198625437666), ('COGM1C5_20200212', 0.019295577679073972), ('COGM1N1_20200208', 0.06119450896338208), ('COGM1N20_20200205', 0.04076557850619622), ('COGM1N23_20200211', 0.04076557850619622), ('COGM1N3_20200211', 0.06119450896338208), ('COGM1N5_20200211', 0.03314997386222274), ('COGM1N7_20200211', 0.03314997386222274), ('COGM1S12_20200211', 0.019424712183123916), ('COGM1S13_20200205', 0.019424712183123916), ('COGM1S17_20200208', 0.03164488379256625), ('COGM1S2_20200208', 0.05625945256245757), ('COGM1S8_20200201', 0.019424712183123916), ('COGM2C12_20200212', 0.02365567432643445), ('COGM2C13_20200212', 0.056669779764519035), ('COGM2N13_20200206', 0.04076557850619622), ('COGM2N14_20200211', 0.04076557850619622), ('COGM2N21_20200211', 0.04076557850619622), ('COGM2N48_20200201', 0.05243993803333069), ('COGM2N49_20200210', 0.05243993803333069), ('COGM2N8_20200208', 0.03314997386222274), ('COGM2S10_20200205', 0.019424712183123916), ('COGM2S11_20200201', 0.019424712183123916), ('COGM2S16_20200208', 0.03164488379256625), ('COGM2S20_20200206', 0.03164488379256625), ('COGM2S27_20200204', 0.10746583853418201), ('COGM2S37_20200201', 0.0405524388824432), ('COGM2S45_20200210', 0.04742229587230895), ('COGM2S46_20200204', 0.031048427987713012), ('COGM2S4_20200205', 0.021823685893238576), ('COGM2S6_20200211', 0.019424712183123916), ('COGM2S7_20200208', 0.019424712183123916), ('COGM2S9_20200205', 0.019424712183123916), ('COGM3N26_20200208', 0.05013958622144088), ('COGM3S14_20200201', 0.042479936312822986), ('COGM3S33_20200204', 0.0405524388824432), ('COGM3S38_20200201', 0.0405524388824432), ('COGM3S52_20200204', 0.06262160552584817), ('COGM5C27_20200209', 0.03164488379256625), ('COGM5N10_20200128', 0.042923033843742076), ('COGM5N10_20200210', 0.042923033843742076), ('COGM5N11_20200210', 0.042923033843742076), ('COGM5N15_20200206', 0.04076557850619622), ('COGM5N24_20200212', 0.04076557850619622), ('COGM5N32_20200212', 0.03823637002204805), ('COGM5S21_20200201', 0.03164488379256625), ('COGM5S29_20200204', 0.0405524388824432), ('COGM5S42_20200204', 0.04742229587230895), ('COGM6C34_20200201', 0.04605683609177191), ('COGM6N16_20200208', 0.04076557850619622), ('COGM6N46_20200201', 0.05243993803333069), ('COGM6S22_20200205', 0.03164488379256625), ('COGM6S26_20200212', 0.10746583853418201), ('COGM6S32_20200206', 0.0405524388824432), ('COGM6S34_20200204', 0.0405524388824432), ('COGM6S44_20200204', 0.04742229587230895), ('COGM6S53_20200206', 0.04477615781985378), ('COGM7N40_20200204', 0.03687072560033755), ('COGM9N42_20200204', 0.03687072560033755), ('COGM9N44_20200201', 0.03687072560033755), ('COGMCO_20191219_1220', 0.03891090907782768), ('COGMCO_20191220_1030', 0.03891090907782768), ('COGMCO_20200122_1015', 0.03891090907782768), ('COGMCO_20200131_0830', 0.03891090907782768), ('COGMCO_20200212_0852', 0.03891090907782768), ('COGMCO_20200219_0930', 0.03891090907782768), ('COGMCO_20200226_0715', 0.03891090907782768), ('COGMCO_20200304_0921', 0.03891090907782768), ('COGMCO_20200312_0850', 0.03891090907782768), ('COGMCO_20200318_0825', 0.03891090907782768), ('COGMCO_20200325_1015', 0.03891090907782768), ('COGMCO_20200417_1509', 0.03891090907782768), ('COGMFL1B_20200212', 0.03164488379256625), ('COGMFL2A_20200211', 0.06119450896338208), ('COGMSO_20191219_1600', 0.044672281846771966), ('COGMSO_20200122_1455', 0.044672281846771966), ('COGMSO_20200131_1225', 0.044672281846771966), ('COGMSO_20200212_1252', 0.044672281846771966), ('COGMSO_20200219_1340', 0.044672281846771966), ('COGMSO_20200225_1500', 0.044672281846771966), ('COGMSO_20200304_1550', 0.044672281846771966), ('COGMSO_20200306_1705', 0.06459413377581313), ('COGMSO_20200312_1520', 0.044672281846771966), ('COGMSO_20200321_1006', 0.044672281846771966), ('COGMSO_20200328_0900', 0.06971825616878391), ('COGMSO_20200328_1630', 0.044672281846771966), ('COGMSO_20200406_0650', 0.06971825616878391), ('COGMSO_20200406_1600', 0.06971825616878391), ('COGMSO_20200419_1600', 0.044672281846771966), ('COGMSO_20200421_0553', 0.044672281846771966), ('COGMSO_20200421_1626', 0.044672281846771966), ('COGMSO_20200422_1512', 0.044672281846771966)]\n"
     ]
    }
   ],
   "source": [
    "# Pit Site Identifier of interest\n",
    "site_name = 'Grand Mesa'\n",
    "\n",
    "# Connect to the database we made.\n",
    "db_name = 'snow:hackweek@db.snowexdata.org/snowex'\n",
    "engine, session = get_db(db_name)\n",
    "\n",
    "datasets = []\n",
    "amplitudes = []\n",
    "\n",
    "# Grab our sites details by site id\n",
    "#q = session.query(SiteData).filter(SiteData.site_id==site_id)\n",
    "q = session.query(SiteData.site_id).filter(SiteData.site_name==site_name)\n",
    "q = q.filter(SiteData.tree_canopy==\"No Trees\")\n",
    "q = q.filter(SiteData.date>=date(2020,2,1))\n",
    "q = q.filter(SiteData.date<=date(2020,3,1))\n",
    "sites = q.all()\n",
    "sites = [d[0] for d in sites] \n",
    "q_layer = session.query(LayerData.pit_id).filter(LayerData.site_id.in_(sites))\n",
    "q_layer = q_layer.distinct()\n",
    "df = query_to_pandas(q_layer, engine)\n",
    "df.sort_values(by=['pit_id'],ascending=True)\n",
    "\n",
    "# Grab the rasters, union them and convert them as tiff when done\n",
    "q_raster = session.query(func.ST_AsTiff(func.ST_Union(ImageData.raster, type_=Raster)))\n",
    "\n",
    "# Only grab rasters that are the bare earth DEM from USGS\n",
    "q_raster = q_raster.filter(ImageData.type == 'insar amplitude').filter(ImageData.observers=='UAVSAR team, JPL').filter(ImageData.site_name == \"Grand Mesa\")\n",
    "\n",
    "for id in df.pit_id:\n",
    "    try:\n",
    "        buffered_pit = get_bufferedPit(id)\n",
    "        q_raster_new = q_raster.filter(gfunc.ST_Intersects(ImageData.raster, buffered_pit))\n",
    "        rasters = q_raster_new.all()\n",
    "        dataset = raster_to_rasterio(session, rasters)[0]\n",
    "        avg_amplitudes = average_amplitudes(dataset.read(1))\n",
    "        amplitudes.append((id,avg_amplitudes))\n",
    "    except TypeError:\n",
    "        print(\"I failed\")\n",
    "        continue\n",
    "print(amplitudes)"
   ]
  },
  {
   "cell_type": "code",
   "execution_count": 41,
   "id": "b46493da-826d-4fa0-aa08-a7541ce53ef7",
   "metadata": {},
   "outputs": [],
   "source": [
    "amp = pd.DataFrame(amplitudes)\n",
    "amp.to_csv('amplitudes.csv')"
   ]
  },
  {
   "cell_type": "code",
   "execution_count": 27,
   "id": "53b535ba-ffec-49b6-8558-cbafcf0b7e5d",
   "metadata": {},
   "outputs": [
    {
     "name": "stdout",
     "output_type": "stream",
     "text": [
      "01030000202069000001000000210000000000000040c7264100000000ae7c5041e5691a143ec726411a02b68fab7c50417ee7506338c7264172bb6937a97c50414e409f252fc7264178dd2c0ea77c50414e00efb522c72641f61f4229a57c50414114998e13c72641f6174c9ba37c50417124b24402c7264110e39573a27c504133ef4f82efc62641c3b27cbda17c504100000000dcc6264100000080a17c5041cd10b07dc8c62641c3b27cbda17c50418fdb4dbbb5c6264110e39573a27c5041bfeb6671a4c62641f6174c9ba37c5041b2ff104a95c62641f61f4229a57c5041b2bf60da88c6264178dd2c0ea77c50418218af9c7fc6264172bb6937a97c50411b96e5eb79c626411a02b68fab7c50410000000078c6264100000000ae7c50411b96e5eb79c62641e6fd4970b07c50418218af9c7fc626418e4496c8b27c5041b2bf60da88c626418822d3f1b47c5041b2ff104a95c626410ae0bdd6b67c5041bfeb6671a4c626410ae8b364b87c50418fdb4dbbb5c62641f01c6a8cb97c5041cd10b07dc8c626413d4d8342ba7c504100000000dcc6264100000080ba7c504133ef4f82efc626413d4d8342ba7c50417124b24402c72641f01c6a8cb97c50414114998e13c726410ae8b364b87c50414e00efb522c726410ae0bdd6b67c50414e409f252fc726418822d3f1b47c50417ee7506338c726418e4496c8b27c5041e5691a143ec72641e6fd4970b07c50410000000040c7264100000000ae7c5041\n"
     ]
    },
    {
     "data": {
      "text/plain": [
       "[(None,)]"
      ]
     },
     "execution_count": 27,
     "metadata": {},
     "output_type": "execute_result"
    }
   ],
   "source": [
    "buffered_pit= get_bufferedPit('6C34')\n",
    "print(buffered_pit)\n",
    "q_raster = q_raster.filter(gfunc.ST_Intersects(ImageData.raster, buffered_pit))\n",
    "q_raster.all()"
   ]
  },
  {
   "cell_type": "code",
   "execution_count": 36,
   "id": "c9028049-d194-410c-a444-533e1209c2a6",
   "metadata": {},
   "outputs": [],
   "source": [
    "def get_bufferedPit(pit_id):\n",
    "    # Distance around the pit to collect data in meters\n",
    "    buffer_dist = 50\n",
    "\n",
    "    datasets = []\n",
    "\n",
    "    # Grab our sites details by site id\n",
    "    q = session.query(LayerData).filter(LayerData.pit_id==pit_id)\n",
    "    sites = q.all()\n",
    "\n",
    "    # Grab the pit location from a single layer\n",
    "    p = sites[0].geom\n",
    "\n",
    "    # Convert the point to a pyshapely\n",
    "    pit = to_shape(p)\n",
    "\n",
    "    # Convert it to a geopandas dataframe for easy plotting\n",
    "    df_pit = gpd.GeoSeries(pit)\n",
    "    q = session.query(gfunc.ST_Buffer(p, buffer_dist))\n",
    "    buffered_pit = q.all()[0][0]\n",
    "    return buffered_pit"
   ]
  },
  {
   "cell_type": "code",
   "execution_count": 7,
   "id": "fd2698b3-9c39-4fbc-beab-475a58334d5a",
   "metadata": {},
   "outputs": [],
   "source": [
    "def average_amplitudes(raster):\n",
    "    \"\"\"\n",
    "    input: 2 dimensional array of list of amplitudes over multiple rasters\n",
    "    output: average amplitude over entire raster\n",
    "    \"\"\"\n",
    "    #create a variable to average each individual raster\n",
    "    single_avgs = []\n",
    "    #iterate over all rasters\n",
    "    for i in range(len(raster)): \n",
    "        #compute and append the mean of the raster \n",
    "        single_avgs.append(sum(dataset.read(1)[i])/len(dataset.read(1)[i]))\n",
    "    \n",
    "    #compute the average amplitude over all rasters\n",
    "    avg_amp = sum(single_avgs)/len(single_avgs) \n",
    "    \n",
    "    return avg_amp"
   ]
  },
  {
   "cell_type": "code",
   "execution_count": 13,
   "id": "6ae97e4c-2e1e-4ab9-89dd-ce88259a3825",
   "metadata": {},
   "outputs": [
    {
     "name": "stdout",
     "output_type": "stream",
     "text": [
      "[('2C12', 0.02365567432643445)]\n"
     ]
    }
   ],
   "source": [
    "print(amplitudes)"
   ]
  }
 ],
 "metadata": {
  "kernelspec": {
   "display_name": "Python 3 (ipykernel)",
   "language": "python",
   "name": "python3"
  },
  "language_info": {
   "codemirror_mode": {
    "name": "ipython",
    "version": 3
   },
   "file_extension": ".py",
   "mimetype": "text/x-python",
   "name": "python",
   "nbconvert_exporter": "python",
   "pygments_lexer": "ipython3",
   "version": "3.10.5"
  }
 },
 "nbformat": 4,
 "nbformat_minor": 5
}
