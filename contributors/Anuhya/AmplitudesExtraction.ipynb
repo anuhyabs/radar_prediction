{
 "cells": [
  {
   "cell_type": "code",
   "execution_count": 1,
   "id": "fb6d7300-ba99-42df-a727-bcc568efa206",
   "metadata": {},
   "outputs": [],
   "source": [
    "from snowexsql.db import get_db\n",
    "from snowexsql.data import ImageData, SiteData, LayerData\n",
    "from rasterio.plot import show\n",
    "from sqlalchemy.sql import func\n",
    "import geoalchemy2.functions as gfunc\n",
    "from geoalchemy2.types import Raster\n",
    "from geoalchemy2.shape import to_shape\n",
    "import geopandas as gpd\n",
    "from snowexsql.conversions import raster_to_rasterio\n",
    "from snowexsql.conversions import points_to_geopandas, query_to_geopandas, query_to_pandas\n",
    "import matplotlib.pyplot as plt\n",
    "import numpy as np\n",
    "from datetime import date\n",
    "import pandas as pd"
   ]
  },
  {
   "cell_type": "code",
   "execution_count": 2,
   "id": "c9028049-d194-410c-a444-533e1209c2a6",
   "metadata": {},
   "outputs": [],
   "source": [
    "def get_bufferedPit(pit_id):\n",
    "    # Distance around the pit to collect data in meters\n",
    "    buffer_dist = 50\n",
    "\n",
    "    datasets = []\n",
    "\n",
    "    # Grab our sites details by site id\n",
    "    q = session.query(LayerData).filter(LayerData.pit_id==pit_id)\n",
    "    sites = q.all()\n",
    "\n",
    "    # Grab the pit location from a single layer\n",
    "    p = sites[0].geom\n",
    "\n",
    "    # Convert the point to a pyshapely\n",
    "    pit = to_shape(p)\n",
    "\n",
    "    # Convert it to a geopandas dataframe for easy plotting\n",
    "    df_pit = gpd.GeoSeries(pit)\n",
    "    q = session.query(gfunc.ST_Buffer(p, buffer_dist))\n",
    "    buffered_pit = q.all()[0][0]\n",
    "    return buffered_pit"
   ]
  },
  {
   "cell_type": "code",
   "execution_count": 3,
   "id": "fd2698b3-9c39-4fbc-beab-475a58334d5a",
   "metadata": {},
   "outputs": [],
   "source": [
    "def average_amplitudes(raster):\n",
    "    \"\"\"\n",
    "    input: 2 dimensional array of list of amplitudes over multiple rasters\n",
    "    output: average amplitude over entire raster\n",
    "    \"\"\"\n",
    "    #create a variable to average each individual raster\n",
    "    single_avgs = []\n",
    "    #iterate over all rasters\n",
    "    for i in range(len(raster)): \n",
    "        #compute and append the mean of the raster \n",
    "        single_avgs.append(sum(dataset.read(1)[i])/len(dataset.read(1)[i]))\n",
    "    \n",
    "    #compute the average amplitude over all rasters\n",
    "    avg_amp = sum(single_avgs)/len(single_avgs) \n",
    "    \n",
    "    return avg_amp"
   ]
  },
  {
   "cell_type": "code",
   "execution_count": 20,
   "id": "c0a0a08f-03ae-4583-8fc3-605adf98637f",
   "metadata": {
    "tags": []
   },
   "outputs": [
    {
     "name": "stdout",
     "output_type": "stream",
     "text": [
      "128\n"
     ]
    }
   ],
   "source": [
    "# Pit Site Identifier of interest\n",
    "site_name = 'Grand Mesa'\n",
    "\n",
    "# Connect to the database we made.\n",
    "db_name = 'snow:hackweek@db.snowexdata.org/snowex'\n",
    "engine, session = get_db(db_name)\n",
    "\n",
    "datasets = []\n",
    "amplitudes = []\n",
    "\n",
    "# Grab our sites details by site id\n",
    "#q = session.query(SiteData).filter(SiteData.site_id==site_id)\n",
    "q = session.query(SiteData.site_id).filter(SiteData.site_name==site_name)\n",
    "q = q.filter(SiteData.tree_canopy==\"No Trees\")\n",
    "q = q.filter(SiteData.date>=date(2020,1,28))\n",
    "q = q.filter(SiteData.date<=date(2020,3,1))\n",
    "sites = q.all()\n",
    "sites = [d[0] for d in sites] \n",
    "q_layer = session.query(LayerData.pit_id).filter(LayerData.site_id.in_(sites))\n",
    "q_layer = q_layer.distinct()\n",
    "df = query_to_pandas(q_layer, engine)\n",
    "df.sort_values(by=['pit_id'],ascending=True)\n",
    "\n",
    "# Grab the rasters, union them and convert them as tiff when done\n",
    "q_raster = session.query(func.ST_AsTiff(func.ST_Union(ImageData.raster, type_=Raster)))\n",
    "\n",
    "# Only grab rasters that are the bare earth DEM from USGS\n",
    "q_raster = q_raster.filter(ImageData.type == 'insar amplitude').filter(ImageData.observers=='UAVSAR team, JPL').filter(ImageData.site_name == \"Grand Mesa\")\n",
    "q_raster = q_raster.filter(ImageData.description.in_\n",
    "                           ([\"Overpass Duration: 2020-02-12 16:47:20 - 2020-02-12 16:49:45 (UTC), DEM used = Intermap Elevation Model DTM, Polarization = VV\"]))\n",
    "\n",
    "for id in df.pit_id:\n",
    "    try:\n",
    "        buffered_pit = get_bufferedPit(id)\n",
    "        q_raster_new = q_raster.filter(gfunc.ST_Intersects(ImageData.raster, buffered_pit))\n",
    "        rasters = q_raster_new.all()\n",
    "        dataset = raster_to_rasterio(session, rasters)[0]\n",
    "        avg_amplitudes = average_amplitudes(dataset.read(1))\n",
    "        amplitudes.append((id,avg_amplitudes))\n",
    "    except TypeError:\n",
    "        #print(\"I failed\")\n",
    "        continue\n",
    "#print(id)\n",
    "print(len(amplitudes))\n",
    "amp = pd.DataFrame(amplitudes)\n",
    "amp.to_csv('amplitudes_VV2.csv')"
   ]
  },
  {
   "cell_type": "code",
   "execution_count": null,
   "id": "25acb4c6-d46c-45f8-a665-37e3a62328ad",
   "metadata": {},
   "outputs": [],
   "source": [
    "polarizations = ['HH','HV','VH','VV']\n",
    "for i in polarizations:\n",
    "    q_raster = q_raster.filter(ImageData.description.in_\n",
    "                           ([\"Overpass Duration: 2020-02-01 02:13:16 - 2020-02-01 02:15:58 (UTC), DEM used = Intermap Elevation Model DTM, Polarization = \"+i,\n",
    "                           \"Overpass Duration: 2020-02-12 16:47:20 - 2020-02-12 16:49:45 (UTC), DEM used = Intermap Elevation Model DTM, Polarization = \"+i]))\n",
    "\n",
    "    for id in df.pit_id:\n",
    "        try:\n",
    "            buffered_pit = get_bufferedPit(id)\n",
    "            q_raster_new = q_raster.filter(gfunc.ST_Intersects(ImageData.raster, buffered_pit))\n",
    "            rasters = q_raster_new.all()\n",
    "            dataset = raster_to_rasterio(session, rasters)[0]\n",
    "            avg_amplitudes = average_amplitudes(dataset.read(1))\n",
    "            amplitudes.append((id,avg_amplitudes))\n",
    "        except TypeError:\n",
    "            #print(\"I failed\")\n",
    "            continue\n",
    "    print(i)\n",
    "    print(len(amplitudes))\n",
    "    amp = pd.DataFrame(amplitudes)\n",
    "    amp.to_csv('amplitudes_'+i+'.csv')"
   ]
  },
  {
   "cell_type": "code",
   "execution_count": 9,
   "id": "05143404-356c-4480-be4f-c0a5c46ac159",
   "metadata": {},
   "outputs": [
    {
     "name": "stdout",
     "output_type": "stream",
     "text": [
      "Overpass Duration: 2020-02-01 02:13:16 - 2020-02-01 02:15:58 (UTC), DEM used = Intermap Elevation Model DTM, Polarization = HH\n",
      "Overpass Duration: 2020-02-01 02:13:16 - 2020-02-01 02:15:58 (UTC), DEM used = Intermap Elevation Model DTM, Polarization = HV\n",
      "Overpass Duration: 2020-02-01 02:13:16 - 2020-02-01 02:15:58 (UTC), DEM used = Intermap Elevation Model DTM, Polarization = VH\n",
      "Overpass Duration: 2020-02-01 02:13:16 - 2020-02-01 02:15:58 (UTC), DEM used = Intermap Elevation Model DTM, Polarization = VV\n"
     ]
    }
   ],
   "source": [
    "polarizations = ['HH','HV','VH','VV']\n",
    "for i in polarizations:\n",
    "    print(\"Overpass Duration: 2020-02-01 02:13:16 - 2020-02-01 02:15:58 (UTC), DEM used = Intermap Elevation Model DTM, Polarization = \"+i)"
   ]
  },
  {
   "cell_type": "code",
   "execution_count": null,
   "id": "5350a613-44f6-41b1-8d36-9cc326b1eccd",
   "metadata": {},
   "outputs": [],
   "source": [
    "# Close the dataset and end the database session\n",
    "dataset.close()\n",
    "session.close()"
   ]
  }
 ],
 "metadata": {
  "kernelspec": {
   "display_name": "Python 3 (ipykernel)",
   "language": "python",
   "name": "python3"
  },
  "language_info": {
   "codemirror_mode": {
    "name": "ipython",
    "version": 3
   },
   "file_extension": ".py",
   "mimetype": "text/x-python",
   "name": "python",
   "nbconvert_exporter": "python",
   "pygments_lexer": "ipython3",
   "version": "3.10.5"
  }
 },
 "nbformat": 4,
 "nbformat_minor": 5
}
