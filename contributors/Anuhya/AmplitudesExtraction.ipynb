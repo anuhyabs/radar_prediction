{
 "cells": [
  {
   "cell_type": "code",
   "execution_count": 1,
   "id": "fb6d7300-ba99-42df-a727-bcc568efa206",
   "metadata": {},
   "outputs": [],
   "source": [
    "from snowexsql.db import get_db\n",
    "from snowexsql.data import ImageData, SiteData, LayerData\n",
    "from rasterio.plot import show\n",
    "from sqlalchemy.sql import func\n",
    "import geoalchemy2.functions as gfunc\n",
    "from geoalchemy2.types import Raster\n",
    "from geoalchemy2.shape import to_shape\n",
    "import geopandas as gpd\n",
    "from snowexsql.conversions import raster_to_rasterio\n",
    "from snowexsql.conversions import points_to_geopandas, query_to_geopandas, query_to_pandas\n",
    "import matplotlib.pyplot as plt\n",
    "import numpy as np\n",
    "from datetime import date\n",
    "import pandas as pd"
   ]
  },
  {
   "cell_type": "code",
   "execution_count": 2,
   "id": "c9028049-d194-410c-a444-533e1209c2a6",
   "metadata": {},
   "outputs": [],
   "source": [
    "def get_bufferedPit(pit_id):\n",
    "    # Distance around the pit to collect data in meters\n",
    "    buffer_dist = 50\n",
    "\n",
    "    datasets = []\n",
    "\n",
    "    # Grab our sites details by site id\n",
    "    q = session.query(LayerData).filter(LayerData.pit_id==pit_id)\n",
    "    sites = q.all()\n",
    "\n",
    "    # Grab the pit location from a single layer\n",
    "    p = sites[0].geom\n",
    "\n",
    "    # Convert the point to a pyshapely\n",
    "    pit = to_shape(p)\n",
    "\n",
    "    # Convert it to a geopandas dataframe for easy plotting\n",
    "    df_pit = gpd.GeoSeries(pit)\n",
    "    q = session.query(gfunc.ST_Buffer(p, buffer_dist))\n",
    "    buffered_pit = q.all()[0][0]\n",
    "    return buffered_pit"
   ]
  },
  {
   "cell_type": "code",
   "execution_count": 3,
   "id": "fd2698b3-9c39-4fbc-beab-475a58334d5a",
   "metadata": {},
   "outputs": [],
   "source": [
    "def average_amplitudes(raster):\n",
    "    \"\"\"\n",
    "    input: 2 dimensional array of list of amplitudes over multiple rasters\n",
    "    output: average amplitude over entire raster\n",
    "    \"\"\"\n",
    "    #create a variable to average each individual raster\n",
    "    single_avgs = []\n",
    "    #iterate over all rasters\n",
    "    for i in range(len(raster)): \n",
    "        #compute and append the mean of the raster \n",
    "        single_avgs.append(sum(dataset.read(1)[i])/len(dataset.read(1)[i]))\n",
    "    \n",
    "    #compute the average amplitude over all rasters\n",
    "    avg_amp = sum(single_avgs)/len(single_avgs) \n",
    "    \n",
    "    return avg_amp"
   ]
  },
  {
   "cell_type": "code",
   "execution_count": 14,
   "id": "c0a0a08f-03ae-4583-8fc3-605adf98637f",
   "metadata": {},
   "outputs": [
    {
     "name": "stdout",
     "output_type": "stream",
     "text": [
      "[('COGMSO_20200321_1006', 0.10239493629471497), ('COGM2S37_20200201', 0.08501565618547602), ('COGM5S31_20200130', 0.058227352641978314), ('COGMCO_20200318_0825', 0.08480991110951663), ('COGMSO_20200328_1630', 0.10239493629471497), ('COGM2C2_20200131', 0.05769804005532819), ('COGMSO_20200406_0650', 0.21375169519905057), ('COGM1C7_20200131', 0.08644994901621317), ('COGM6C10_20200131', 0.08644994901621317), ('COGM1N23_20200211', 0.06501980940919339), ('COGM8N34_20200130', 0.11850431366553948), ('COGMSO_20200212_1252', 0.10239493629471497), ('COGMSO_20200225_1500', 0.10239493629471497), ('COGM6S44_20200204', 0.06513490261386323), ('COGM1N1_20200208', 0.08681969628410968), ('COGMSO_20200328_0900', 0.21375169519905057), ('COGM3N22_20200128', 0.06501980940919339), ('COGM2N12_20200131', 0.06501980940919339), ('COGMSO_20200419_1600', 0.10239493629471497), ('COGM2S48_20200129', 0.09599768843332868), ('COGM2C3_20200131', 0.05769804005532819), ('COGM5C27_20200209', 0.06553516044252206), ('COGMSO_20200122_1455', 0.10239493629471497), ('COGMCO_20200219_0930', 0.08480991110951663), ('COGMCO_20200212_0852', 0.08480991110951663), ('COGM1C1_20200208', 0.0893204421845013), ('COGMSO_20200306_1705', 0.10239493629471497), ('COGMFL2A_20200211', 0.08681969628410968), ('COGM2N13_20200206', 0.06501980940919339), ('COGM6S32_20200206', 0.08501565618547602), ('COGMCO_20200131_0830', 0.08480991110951663), ('COGM2C4_20200131', 0.05769804005532819), ('COGM4N2_20200128', 0.08681969628410968), ('COGM3N53_20200128', 0.10895900054572394), ('COGM3S14_20200201', 0.06745214420634227), ('COGM2N21_20200211', 0.06501980940919339), ('COGMCO_20200325_1015', 0.08480991110951663), ('COGMSO_20200304_1550', 0.10239493629471497), ('COGM7N40_20200204', 0.07834456774949672), ('COGM1S2_20200208', 0.05855557410569645), ('COGM2S27_20200204', 0.058227352641978314), ('COGM2N4_20200128', 0.08681969628410968), ('COGMCO_20191220_1030', 0.08480991110951663), ('COGMCO_20200122_1015', 0.08480991110951663), ('COGM2S45_20200210', 0.06513490261386323), ('COGM9N29_20200130', 0.11850431366553948), ('COGM6S26_20200212', 0.058227352641978314), ('COGM2C33_20200130', 0.0601213596398793), ('COGM1N5_20200211', 0.08063450457859744), ('COGM6S53_20200206', 0.06262160552584817), ('COGM6N18_20200128', 0.06501980940919339), ('COGM1N6_20200128', 0.08063450457859744), ('COGM9N42_20200204', 0.07834456774949672), ('COGM2S11_20200201', 0.06936912797016248), ('COGM1C5_20200212', 0.05769804005532819), ('COGM1N3_20200211', 0.08681969628410968), ('COGMCO_20200304_0921', 0.08480991110951663), ('COGM3S38_20200201', 0.08501565618547602), ('COGM1S1_20200129', 0.05855557410569645), ('COGM2S36_20200129', 0.08501565618547602), ('COGM1S12_20200211', 0.06936912797016248), ('COGM3S33_20200204', 0.08501565618547602), ('COGM6N31_20200130', 0.11850431366553948), ('COGM5N19_20200128', 0.06501980940919339), ('COGM2N14_20200211', 0.06501980940919339), ('COGM6N46_20200201', 0.10895900054572394), ('COGM5C20_20200130', 0.06501980940919339), ('COGM2S20_20200206', 0.06553516044252206), ('COGM5N10_20200210', 0.061667584512264284), ('COGMCO_20191219_1220', 0.08480991110951663), ('COGM5N15_20200206', 0.06501980940919339), ('COGM1N7_20200211', 0.08063450457859744), ('COGM2S10_20200205', 0.06936912797016248), ('COGM2S4_20200205', 0.06396235103792947), ('COGM2S9_20200205', 0.06936912797016248), ('COGM3S5_20200129', 0.06936912797016248), ('COGM2C13_20200212', 0.056669779764519035), ('COGMSO_20200312_1520', 0.10239493629471497), ('COGM2N8_20200208', 0.08063450457859744), ('COGM6S34_20200204', 0.08501565618547602), ('COGM5N10_20200128', 0.061667584512264284), ('COGM2S16_20200208', 0.06553516044252206), ('COGM5C21_20200130', 0.11850431366553948), ('COGMSO_20200406_1600', 0.21375169519905057), ('COGM2S7_20200208', 0.06936912797016248), ('COGM5N11_20200210', 0.061667584512264284), ('COGM3N26_20200208', 0.07178574405405413), ('COGMSO_20200219_1340', 0.10239493629471497), ('COGM5S42_20200204', 0.06513490261386323), ('COGM2S25_20200129', 0.058227352641978314), ('COGM1S13_20200205', 0.06936912797016248), ('COGM9N44_20200201', 0.07834456774949672), ('COGM5S29_20200204', 0.08501565618547602), ('COGM5N24_20200212', 0.06501980940919339), ('COGMSO_20200422_1512', 0.10239493629471497), ('COGM6C24_20200131', 0.11850431366553948), ('COGMCO_20200417_1509', 0.08480991110951663), ('COGM1C1_20200131', 0.0893204421845013), ('COGM6C34_20200201', 0.077053456020451), ('COGM6N36_20200130', 0.07834456774949672), ('COGM2N49_20200210', 0.10895900054572394), ('COGM2N48_20200201', 0.10895900054572394), ('COGM1S17_20200208', 0.06553516044252206), ('COGM3S47_20200129', 0.09599768843332868), ('COGM1S8_20200201', 0.06936912797016248), ('COGMCO_20200312_0850', 0.08480991110951663), ('COGM5S24_20200129', 0.058227352641978314), ('COGMSO_20200421_0553', 0.10239493629471497), ('COGM1C8_20200131', 0.08644994901621317), ('COGM6N16_20200208', 0.06501980940919339), ('COGM3S52_20200204', 0.06262160552584817), ('COGM2C9_20200131', 0.08644994901621317), ('COGM1C14_20200131', 0.11530819067613152), ('COGM5S21_20200201', 0.06553516044252206), ('COGMCO_20200226_0715', 0.08480991110951663), ('COGMSO_20200421_1626', 0.10239493629471497), ('COGM2C12_20200212', 0.08644994901621317), ('COGM2C6_20200131', 0.08644994901621317), ('COGM5N32_20200212', 0.11850431366553948), ('COGMFL1B_20200212', 0.06553516044252206), ('COGM2S6_20200211', 0.06936912797016248), ('COGM2S46_20200204', 0.09599768843332868), ('COGM6S22_20200205', 0.06553516044252206), ('COGM2S3_20200129', 0.05855557410569645), ('COGMSO_20191219_1600', 0.10239493629471497), ('COGM1N20_20200205', 0.06501980940919339), ('COGM2S35_20200130', 0.08501565618547602), ('COGMSO_20200131_1225', 0.10239493629471497)]\n"
     ]
    }
   ],
   "source": [
    "# Pit Site Identifier of interest\n",
    "site_name = 'Grand Mesa'\n",
    "\n",
    "# Connect to the database we made.\n",
    "db_name = 'snow:hackweek@db.snowexdata.org/snowex'\n",
    "engine, session = get_db(db_name)\n",
    "\n",
    "datasets = []\n",
    "amplitudes = []\n",
    "\n",
    "# Grab our sites details by site id\n",
    "#q = session.query(SiteData).filter(SiteData.site_id==site_id)\n",
    "q = session.query(SiteData.site_id).filter(SiteData.site_name==site_name)\n",
    "q = q.filter(SiteData.tree_canopy==\"No Trees\")\n",
    "q = q.filter(SiteData.date>=date(2020,1,28))\n",
    "q = q.filter(SiteData.date<=date(2020,3,1))\n",
    "sites = q.all()\n",
    "sites = [d[0] for d in sites] \n",
    "q_layer = session.query(LayerData.pit_id).filter(LayerData.site_id.in_(sites))\n",
    "q_layer = q_layer.distinct()\n",
    "df = query_to_pandas(q_layer, engine)\n",
    "df.sort_values(by=['pit_id'],ascending=True)\n",
    "\n",
    "# Grab the rasters, union them and convert them as tiff when done\n",
    "q_raster = session.query(func.ST_AsTiff(func.ST_Union(ImageData.raster, type_=Raster)))\n",
    "\n",
    "# Only grab rasters that are the bare earth DEM from USGS\n",
    "q_raster = q_raster.filter(ImageData.type == 'insar amplitude').filter(ImageData.observers=='UAVSAR team, JPL').filter(ImageData.site_name == \"Grand Mesa\")\n",
    "q_raster = q_raster.filter(ImageData.description.in_\n",
    "                           ([\"Overpass Duration: 2020-02-01 02:13:16 - 2020-02-01 02:15:58 (UTC), DEM used = Intermap Elevation Model DTM, Polarization = VV\",\n",
    "                           \"Overpass Duration: 2020-02-12 16:47:20 - 2020-02-12 16:49:45 (UTC), DEM used = Intermap Elevation Model DTM, Polarization = VV\"]))\n",
    "\n",
    "for id in df.pit_id:\n",
    "    try:\n",
    "        buffered_pit = get_bufferedPit(id)\n",
    "        q_raster_new = q_raster.filter(gfunc.ST_Intersects(ImageData.raster, buffered_pit))\n",
    "        rasters = q_raster_new.all()\n",
    "        dataset = raster_to_rasterio(session, rasters)[0]\n",
    "        avg_amplitudes = average_amplitudes(dataset.read(1))\n",
    "        amplitudes.append((id,avg_amplitudes))\n",
    "    except TypeError:\n",
    "        print(\"I failed\")\n",
    "        continue\n",
    "print(amplitudes)"
   ]
  },
  {
   "cell_type": "code",
   "execution_count": 15,
   "id": "b46493da-826d-4fa0-aa08-a7541ce53ef7",
   "metadata": {},
   "outputs": [],
   "source": [
    "amp = pd.DataFrame(amplitudes)\n",
    "amp.to_csv('amplitudes_VV.csv')"
   ]
  }
 ],
 "metadata": {
  "kernelspec": {
   "display_name": "Python 3 (ipykernel)",
   "language": "python",
   "name": "python3"
  },
  "language_info": {
   "codemirror_mode": {
    "name": "ipython",
    "version": 3
   },
   "file_extension": ".py",
   "mimetype": "text/x-python",
   "name": "python",
   "nbconvert_exporter": "python",
   "pygments_lexer": "ipython3",
   "version": "3.10.5"
  }
 },
 "nbformat": 4,
 "nbformat_minor": 5
}
