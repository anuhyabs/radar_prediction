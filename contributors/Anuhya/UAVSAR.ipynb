{
 "cells": [
  {
   "cell_type": "code",
   "execution_count": 39,
   "id": "7e70e880-2f81-4b14-b726-09465d54ee8d",
   "metadata": {},
   "outputs": [],
   "source": [
    "from snowexsql.db import get_db\n",
    "from snowexsql.data import ImageData, SiteData\n",
    "from rasterio.plot import show\n",
    "from sqlalchemy.sql import func\n",
    "import geoalchemy2.functions as gfunc\n",
    "from geoalchemy2.types import Raster\n",
    "from geoalchemy2.shape import to_shape\n",
    "import geopandas as gpd\n",
    "from snowexsql.conversions import raster_to_rasterio\n",
    "from snowexsql.conversions import points_to_geopandas, query_to_geopandas, query_to_pandas\n",
    "import matplotlib.pyplot as plt\n",
    "import numpy as np\n",
    "from datetime import date\n",
    "\n",
    "# Pit Site Identifier of interest\n",
    "site_id = '6C34'\n",
    "site_name = 'Grand Mesa'\n",
    "\n",
    "# Distance around the pit to collect data in meters\n",
    "buffer_dist = 10\n",
    "\n",
    "# Connect to the database we made.\n",
    "db_name = 'snow:hackweek@db.snowexdata.org/snowex'\n",
    "engine, session = get_db(db_name)\n",
    "\n",
    "datasets = []\n",
    "\n",
    "# Grab our sites details by site id\n",
    "q = session.query(SiteData).filter(SiteData.site_id==site_id)\n",
    "#q = session.query(SiteData).filter(SiteData.site_name==site_name)\n",
    "#q = q.filter(SiteData.tree_canopy==\"No Trees\")\n",
    "#q = q.filter(SiteData.date>=date(2020,2,1))\n",
    "#q = q.filter(SiteData.date<=date(2020,3,1))\n",
    "sites = q.all()\n",
    "\n",
    "# Grab the pit location from a single layer\n",
    "p = sites[0].geom\n",
    "\n",
    "# Convert the point to a pyshapely\n",
    "pit = to_shape(p)\n",
    "\n",
    "# Convert it to a geopandas dataframe for easy plotting\n",
    "df_pit = gpd.GeoSeries(pit)"
   ]
  },
  {
   "cell_type": "code",
   "execution_count": 40,
   "id": "e7ccd0b8-5643-4637-a438-c4798cc4cae2",
   "metadata": {},
   "outputs": [],
   "source": [
    "# Create a polygon buffered by our distance centered on the pit\n",
    "q = session.query(gfunc.ST_Buffer(p, buffer_dist))\n",
    "buffered_pit = q.all()[0][0]\n",
    "\n",
    "# Convert to a shapely shapefile object\n",
    "circle = to_shape(buffered_pit)\n",
    "\n",
    "# Convert to a geopandas dataframe\n",
    "df_circle = gpd.GeoSeries(circle)"
   ]
  },
  {
   "cell_type": "code",
   "execution_count": 43,
   "id": "878d3dfe-5837-4769-bff7-1a033bb3552d",
   "metadata": {},
   "outputs": [
    {
     "name": "stdout",
     "output_type": "stream",
     "text": [
      "[(<memory at 0x7faae96d1fc0>,)]\n",
      "010300002020690000010000002100000000000000f0c6264100000000ae7c5041fbe19e9defc62641d2662483ad7c50418061437aeec626417d25150bad7c5041a9d91fa1ecc626417e5f6f9cac7c504110006324eac62641fe9f733bac7c50410d04851ce7c62641cb04dcebab7c504117d456a7e3c62641d093b7b0ab7c504171c9dce6dfc62641c1234c8cab7c504100000000dcc6264100000080ab7c50418f362319d8c62641c1234c8cab7c5041e92ba958d4c62641d093b7b0ab7c5041f3fb7ae3d0c62641cb04dcebab7c5041f0ff9cdbcdc62641fe9f733bac7c50415726e05ecbc626417e5f6f9cac7c5041809ebc85c9c626417d25150bad7c5041051e6162c8c62641d2662483ad7c504100000000c8c6264100000000ae7c5041051e6162c8c626412e99db7cae7c5041809ebc85c9c6264183daeaf4ae7c50415726e05ecbc6264182a09063af7c5041f0ff9cdbcdc6264102608cc4af7c5041f3fb7ae3d0c6264135fb2314b07c5041e92ba958d4c62641306c484fb07c50418f362319d8c626413fdcb373b07c504100000000dcc6264100000080b07c504171c9dce6dfc626413fdcb373b07c504117d456a7e3c62641306c484fb07c50410d04851ce7c6264135fb2314b07c504110006324eac6264102608cc4af7c5041a9d91fa1ecc6264182a09063af7c50418061437aeec6264183daeaf4ae7c5041fbe19e9defc626412e99db7cae7c504100000000f0c6264100000000ae7c5041\n"
     ]
    },
    {
     "data": {
      "text/plain": [
       "array([[0.02133932, 0.02008513, 0.02527952, ..., 0.05143411, 0.04330745,\n",
       "        0.03488869],\n",
       "       [0.02049939, 0.01899787, 0.02189651, ..., 0.05439872, 0.05720717,\n",
       "        0.04802455],\n",
       "       [0.01899452, 0.01730227, 0.01753171, ..., 0.05030817, 0.07519276,\n",
       "        0.07538059],\n",
       "       ...,\n",
       "       [0.02265197, 0.02184701, 0.01708424, ..., 0.04455313, 0.06560078,\n",
       "        0.05136503],\n",
       "       [0.02095003, 0.01980173, 0.02072998, ..., 0.06371335, 0.07016074,\n",
       "        0.0726635 ],\n",
       "       [0.02093092, 0.02352743, 0.02272195, ..., 0.08081836, 0.07520615,\n",
       "        0.07418419]], dtype=float32)"
      ]
     },
     "execution_count": 43,
     "metadata": {},
     "output_type": "execute_result"
    }
   ],
   "source": [
    "# Grab the rasters, union them and convert them as tiff when done\n",
    "q = session.query(func.ST_AsTiff(func.ST_Union(ImageData.raster, type_=Raster)))\n",
    "\n",
    "# Only grab rasters that are the bare earth DEM from USGS\n",
    "q = q.filter(ImageData.type == 'insar amplitude').filter(ImageData.observers=='UAVSAR team, JPL').filter(ImageData.site_name == \"Grand Mesa\")\n",
    "#q = q.filter(ImageData.id == 455701)\n",
    "\n",
    "# And grab rasters touching the circle\n",
    "q = q.filter(gfunc.ST_Intersects(ImageData.raster, buffered_pit))\n",
    "\n",
    "# Execute the query\n",
    "rasters = q.all()\n",
    "print(rasters)\n",
    "# Get the rasterio object of the raster\n",
    "dataset = raster_to_rasterio(session, rasters)[0]\n",
    "len(dataset.read(1)[0])\n",
    "print(buffered_pit)\n",
    "dataset.read(1)"
   ]
  },
  {
   "cell_type": "code",
   "execution_count": 38,
   "id": "f95bc3ff-dc8b-4759-af5d-13a753c980dd",
   "metadata": {},
   "outputs": [],
   "source": [
    "# Form a query for retrieving the sites that are within the circle\n",
    "q = session.query(SiteData.geom).filter(gfunc.ST_Within(SiteData.geom, buffered_pit))\n",
    "\n",
    "# Create a geopandas dataframe of SiteData geometry in the circle\n",
    "nearby_pits = query_to_geopandas(q, engine)"
   ]
  },
  {
   "cell_type": "code",
   "execution_count": null,
   "id": "a813f0e8-a7a2-42b4-b84a-615f187b01a8",
   "metadata": {},
   "outputs": [],
   "source": [
    "# Create a single plot to add everything to\n",
    "fig, ax = plt.subplots(figsize=(8,8))\n",
    "\n",
    "# Plot the DEM\n",
    "img = show(dataset.read(1), ax=ax, transform=dataset.transform, cmap='terrain')\n",
    "\n",
    "# Plot the contours of the DEM (Just for kicks!) at 10m intervals\n",
    "show(dataset.read(1), contour=True, levels=[s for s in np.arange(3000, 4000, 10)], colors='dimgray', ax=ax, transform=dataset.transform)\n",
    "\n",
    "# Plot the circle as blue with slight transparency\n",
    "df_circle.plot(ax=ax, color='b', alpha=0.4, edgecolor='black')\n",
    "\n",
    "# Plot the nearby pits as purple triangles\n",
    "nearby_pits.plot(ax=ax, color='purple', marker='^', label='Nearby Pits',  edgecolor='black', markersize=150)\n",
    "\n",
    "# Plot pit as a red triangle\n",
    "df_pit.plot(ax=ax, color='r', marker='^', label=site_id,  edgecolor='black', markersize=150)\n",
    "\n",
    "# Don't use scientific notation on the axis ticks\n",
    "ax.ticklabel_format(style='plain', useOffset=False)\n",
    "\n",
    "# Add x/y labels, a title, a legend and avoid overlapping labels\n",
    "ax.set_xlabel('Easting [m]')\n",
    "ax.set_ylabel('Northing [m]')\n",
    "ax.set_title('Pit {} w/ {}m Radius Circle on USGS DEM'.format(site_id, buffer_dist))\n",
    "ax.legend()\n",
    "plt.tight_layout()"
   ]
  },
  {
   "cell_type": "code",
   "execution_count": null,
   "id": "2fcc337e-3e78-4b21-b23d-ad37f15826ad",
   "metadata": {},
   "outputs": [],
   "source": [
    "# Close the dataset and end the database session\n",
    "dataset.close()\n",
    "session.close()"
   ]
  }
 ],
 "metadata": {
  "kernelspec": {
   "display_name": "Python 3 (ipykernel)",
   "language": "python",
   "name": "python3"
  },
  "language_info": {
   "codemirror_mode": {
    "name": "ipython",
    "version": 3
   },
   "file_extension": ".py",
   "mimetype": "text/x-python",
   "name": "python",
   "nbconvert_exporter": "python",
   "pygments_lexer": "ipython3",
   "version": "3.10.5"
  }
 },
 "nbformat": 4,
 "nbformat_minor": 5
}
