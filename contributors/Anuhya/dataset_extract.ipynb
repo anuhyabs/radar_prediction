{
 "cells": [
  {
   "cell_type": "markdown",
   "id": "28e983b1-936f-4871-ac8e-35a579c3af88",
   "metadata": {},
   "source": [
    "## Data Exploration"
   ]
  },
  {
   "cell_type": "markdown",
   "id": "f89b7bdc-00e5-46f2-81e9-c09ddd1c7bc1",
   "metadata": {},
   "source": [
    "#### Objectives\n",
    "- Extract snow pits from Grand Mesa.\n",
    "- Filter data conditions: no tree data, low snow variance?\n",
    "- Plot the snow pits."
   ]
  },
  {
   "cell_type": "code",
   "execution_count": 8,
   "id": "61e9dd44-c8f5-430e-8e4b-0d7c3ff522e2",
   "metadata": {},
   "outputs": [],
   "source": [
    "# standard imports\n",
    "import numpy as np\n",
    "import geopandas as gpd\n",
    "import matplotlib\n",
    "import matplotlib.pyplot as plt \n",
    "import datetime\n",
    "\n",
    "# some mapping widgets\n",
    "import ipyleaflet\n",
    "from ipyleaflet import Map, GeoData, Rectangle, basemaps, LayersControl, basemap_to_tiles, TileLayer, SplitMapControl, Polygon, MagnifyingGlass\n",
    "import ipywidgets\n",
    "\n",
    "# database imports\n",
    "from snowexsql.db import get_db\n",
    "from snowexsql.data import PointData, LayerData, ImageData, SiteData\n",
    "from snowexsql.conversions import query_to_geopandas, query_to_pandas"
   ]
  },
  {
   "cell_type": "code",
   "execution_count": 9,
   "id": "81914855-67f8-4beb-95a1-5b24daaaf4e7",
   "metadata": {},
   "outputs": [
    {
     "name": "stdout",
     "output_type": "stream",
     "text": [
      "SnowEx Database successfully loaded!\n"
     ]
    }
   ],
   "source": [
    "# load the database\n",
    "db_name = 'snow:hackweek@db.snowexdata.org/snowex'\n",
    "engine, session = get_db(db_name)\n",
    "\n",
    "print('SnowEx Database successfully loaded!')"
   ]
  },
  {
   "cell_type": "markdown",
   "id": "e219e92f-a2dc-48cc-b1e9-2d024d22fc7f",
   "metadata": {},
   "source": [
    "#### Quering the column names in the database tables"
   ]
  },
  {
   "cell_type": "code",
   "execution_count": 10,
   "id": "48d7c30c-5848-40ac-b8bf-6972c8825efe",
   "metadata": {},
   "outputs": [
    {
     "name": "stdout",
     "output_type": "stream",
     "text": [
      "\n",
      " Image Data: \n",
      "\n",
      "These are the available columns in the table:\n",
      " \n",
      "* date\n",
      "* date_accessed\n",
      "* description\n",
      "* doi\n",
      "* instrument\n",
      "* metadata\n",
      "* observers\n",
      "* raster\n",
      "* registry\n",
      "* site_name\n",
      "* time_created\n",
      "* time_updated\n",
      "* type\n",
      "* units\n",
      "\n",
      "\n",
      " Points Data: \n",
      "\n",
      "These are the available columns in the table:\n",
      " \n",
      "* date\n",
      "* date_accessed\n",
      "* doi\n",
      "* easting\n",
      "* elevation\n",
      "* equipment\n",
      "* geom\n",
      "* instrument\n",
      "* latitude\n",
      "* longitude\n",
      "* metadata\n",
      "* northing\n",
      "* observers\n",
      "* registry\n",
      "* site_id\n",
      "* site_name\n",
      "* time\n",
      "* time_created\n",
      "* time_updated\n",
      "* type\n",
      "* units\n",
      "* utm_zone\n",
      "* value\n",
      "* version_number\n",
      "\n",
      "\n",
      " Site Data: \n",
      "\n",
      "These are the available columns in the table:\n",
      " \n",
      "* air_temp\n",
      "* aspect\n",
      "* date\n",
      "* date_accessed\n",
      "* doi\n",
      "* easting\n",
      "* elevation\n",
      "* geom\n",
      "* ground_condition\n",
      "* ground_roughness\n",
      "* ground_vegetation\n",
      "* latitude\n",
      "* longitude\n",
      "* metadata\n",
      "* northing\n",
      "* pit_id\n",
      "* precip\n",
      "* registry\n",
      "* site_id\n",
      "* site_name\n",
      "* site_notes\n",
      "* sky_cover\n",
      "* slope_angle\n",
      "* time\n",
      "* time_created\n",
      "* time_updated\n",
      "* total_depth\n",
      "* tree_canopy\n",
      "* utm_zone\n",
      "* vegetation_height\n",
      "* weather_description\n",
      "* wind\n",
      "\n",
      "\n",
      " Layer Data: \n",
      "\n",
      "These are the available columns in the table:\n",
      " \n",
      "* bottom_depth\n",
      "* comments\n",
      "* date\n",
      "* date_accessed\n",
      "* depth\n",
      "* doi\n",
      "* easting\n",
      "* elevation\n",
      "* flags\n",
      "* geom\n",
      "* instrument\n",
      "* latitude\n",
      "* longitude\n",
      "* metadata\n",
      "* northing\n",
      "* observers\n",
      "* pit_id\n",
      "* registry\n",
      "* sample_a\n",
      "* sample_b\n",
      "* sample_c\n",
      "* site_id\n",
      "* site_name\n",
      "* time\n",
      "* time_created\n",
      "* time_updated\n",
      "* type\n",
      "* units\n",
      "* utm_zone\n",
      "* value\n",
      "\n"
     ]
    }
   ],
   "source": [
    "# Import the class reflecting the points table in the db\n",
    "from snowexsql.data import ImageData\n",
    "from snowexsql.data import PointData\n",
    "from snowexsql.data import SiteData\n",
    "from snowexsql.data import LayerData\n",
    "\n",
    "# Import the function to investigate a table\n",
    "from snowexsql.db import get_table_attributes\n",
    "\n",
    "# Use the function to see what columns are available to use. \n",
    "db_columns = get_table_attributes(ImageData)\n",
    "db_cols_points = get_table_attributes(PointData)\n",
    "db_cols_sites = get_table_attributes(SiteData)\n",
    "db_cols_layers = get_table_attributes(LayerData)\n",
    "\n",
    "# Print out the results nicely\n",
    "print(\"\\n Image Data: \\n\")\n",
    "print(\"These are the available columns in the table:\\n \\n* {}\\n\".format('\\n* '.join(db_columns)))\n",
    "print(\"\\n Points Data: \\n\")\n",
    "print(\"These are the available columns in the table:\\n \\n* {}\\n\".format('\\n* '.join(db_cols_points)))\n",
    "print(\"\\n Site Data: \\n\")\n",
    "print(\"These are the available columns in the table:\\n \\n* {}\\n\".format('\\n* '.join(db_cols_sites)))\n",
    "print(\"\\n Layer Data: \\n\")\n",
    "print(\"These are the available columns in the table:\\n \\n* {}\\n\".format('\\n* '.join(db_cols_layers)))\n"
   ]
  },
  {
   "cell_type": "markdown",
   "id": "d1ffaaf4-79ea-4921-a17e-55f0c367dbc1",
   "metadata": {},
   "source": [
    "#### Querying the SiteData for snow pit locations from Grand Mesa"
   ]
  },
  {
   "cell_type": "code",
   "execution_count": 11,
   "id": "ef220464-8359-4615-99c6-6ac605c07784",
   "metadata": {},
   "outputs": [
    {
     "name": "stdout",
     "output_type": "stream",
     "text": [
      "list of Snow Pit sites:\n",
      " 3S47, 6C10, 3S52, 4N2, 2S9, 2S27, 6C34, 1C1, 6C24, 2S4, 5C27, 2S7, 6N36, 2S25, Skyway Open, 6S22, 2S6, FL1B, 9N42, 1N1, 1N3, 1N6, 9N29, 2S11, 2N8, 1C5, 1N7, 6N31, 3S33, 5N24, 3S5, 2S10, 2S45, 5C21, 5S24, 2N49, 2N14, 3N53, 5N19, 1C7, 2C9, 7N40, 2N4, 1C14, 2C2, County Line Open, 6N18, 5C20, 5N10, 2N21, 1N5, 6S32, 2S20, 1S12, 6S44, 2S48, 9N44, 1S1, 2C3, 6S53, 3S38, 2C13, 5N11, 6S34, 6N16, 5S21, 2C12, 2N12, 5S42, Mesa West Open, 1S2, 3N22, 2N48, 2S3, 5S29, 8N34, 2C4, 2C6, 2S37, 2S16, 1S13, 1S17, 2S35, 1C8, 2S36, FL2A, 1N23, 5S31, 6S26, 2S46, 5N15, 1N20, 2C33, 6N46, 3S14, 2N13, 3N26, 5N32, 1S8\n"
     ]
    }
   ],
   "source": [
    "# query all the sites by site id\n",
    "qry = session.query(SiteData.site_id).distinct()\n",
    "\n",
    "# filter out the Grand Mesa IOP sites (this also removes Grand Mesa Time Series sites, but okay for this example)\n",
    "qry = qry.filter(SiteData.site_name == 'Grand Mesa') # != is \"not equal to\"\n",
    "\n",
    "# second filter on open canopy sites\n",
    "qry = qry.filter(SiteData.tree_canopy == 'No Trees')\n",
    "\n",
    "# execute the query\n",
    "ts_sites = qry.all()\n",
    "\n",
    "# clean up to print a list of sites\n",
    "ts_sites = [s[0] for s in ts_sites]\n",
    "ts_sites_str = \", \".join(ts_sites)\n",
    "print('list of Snow Pit sites:\\n', ts_sites_str)"
   ]
  },
  {
   "cell_type": "markdown",
   "id": "ccbffe10-815e-427e-aa96-2b44f3234faa",
   "metadata": {},
   "source": [
    "#### Querying LayerData for pit ids from Grand Mesa"
   ]
  },
  {
   "cell_type": "code",
   "execution_count": 12,
   "id": "6442ad79-cc3a-438e-a284-1d469b311e0a",
   "metadata": {},
   "outputs": [
    {
     "name": "stdout",
     "output_type": "stream",
     "text": [
      "list of Snow Pit sites:\n",
      " ['COGM1C14_20200131', 'COGM1C1_20200131', 'COGM1C1_20200208', 'COGM1C5_20200212', 'COGM1C7_20200131', 'COGM1C8_20200131', 'COGM1N1_20200208', 'COGM1N20_20200205', 'COGM1N23_20200211', 'COGM1N3_20200211', 'COGM1N5_20200211', 'COGM1N6_20200128', 'COGM1N7_20200211', 'COGM1S12_20200211', 'COGM1S13_20200205', 'COGM1S17_20200208', 'COGM1S1_20200129', 'COGM1S2_20200208', 'COGM1S8_20200201', 'COGM2C12_20200212', 'COGM2C13_20200212', 'COGM2C2_20200131', 'COGM2C33_20200130', 'COGM2C3_20200131', 'COGM2C4_20200131', 'COGM2C6_20200131', 'COGM2C9_20200131', 'COGM2N12_20200131', 'COGM2N13_20200206', 'COGM2N14_20200211', 'COGM2N21_20200211', 'COGM2N48_20200201', 'COGM2N49_20200210', 'COGM2N4_20200128', 'COGM2N8_20200208', 'COGM2S10_20200205', 'COGM2S11_20200201', 'COGM2S16_20200208', 'COGM2S20_20200206', 'COGM2S25_20200129', 'COGM2S27_20200204', 'COGM2S35_20200130', 'COGM2S36_20200129', 'COGM2S37_20200201', 'COGM2S3_20200129', 'COGM2S45_20200210', 'COGM2S46_20200204', 'COGM2S48_20200129', 'COGM2S4_20200205', 'COGM2S6_20200211', 'COGM2S7_20200208', 'COGM2S9_20200205', 'COGM3N22_20200128', 'COGM3N26_20200208', 'COGM3N53_20200128', 'COGM3S14_20200201', 'COGM3S33_20200204', 'COGM3S38_20200201', 'COGM3S47_20200129', 'COGM3S52_20200204', 'COGM3S5_20200129', 'COGM4N2_20200128', 'COGM5C20_20200130', 'COGM5C21_20200130', 'COGM5C27_20200209', 'COGM5N10_20200128', 'COGM5N10_20200210', 'COGM5N11_20200210', 'COGM5N15_20200206', 'COGM5N19_20200128', 'COGM5N24_20200212', 'COGM5N32_20200212', 'COGM5S21_20200201', 'COGM5S24_20200129', 'COGM5S29_20200204', 'COGM5S31_20200130', 'COGM5S42_20200204', 'COGM6C10_20200131', 'COGM6C24_20200131', 'COGM6C34_20200201', 'COGM6N16_20200208', 'COGM6N18_20200128', 'COGM6N31_20200130', 'COGM6N36_20200130', 'COGM6N46_20200201', 'COGM6S22_20200205', 'COGM6S26_20200212', 'COGM6S32_20200206', 'COGM6S34_20200204', 'COGM6S44_20200204', 'COGM6S53_20200206', 'COGM7N40_20200204', 'COGM8N34_20200130', 'COGM9N29_20200130', 'COGM9N42_20200204', 'COGM9N44_20200201', 'COGMCO_20191219_1220', 'COGMCO_20191220_1030', 'COGMCO_20200122_1015', 'COGMCO_20200131_0830', 'COGMCO_20200212_0852', 'COGMCO_20200219_0930', 'COGMCO_20200226_0715', 'COGMCO_20200304_0921', 'COGMCO_20200312_0850', 'COGMCO_20200318_0825', 'COGMCO_20200325_1015', 'COGMCO_20200417_1509', 'COGMFL1B_20200212', 'COGMFL2A_20200211', 'COGMSO_20191219_1600', 'COGMSO_20200122_1455', 'COGMSO_20200131_1225', 'COGMSO_20200212_1252', 'COGMSO_20200219_1340', 'COGMSO_20200225_1500', 'COGMSO_20200304_1550', 'COGMSO_20200306_1705', 'COGMSO_20200312_1520', 'COGMSO_20200321_1006', 'COGMSO_20200328_0900', 'COGMSO_20200328_1630', 'COGMSO_20200406_0650', 'COGMSO_20200406_1600', 'COGMSO_20200419_1600', 'COGMSO_20200421_0553', 'COGMSO_20200421_1626', 'COGMSO_20200422_1512', 'COGMWO_20200305_0809', 'COGMWO_20200316_0841', 'COGMWO_20200316_1358', 'COGMWO_20200316_1519', 'COGMWO_20200331_0934', 'COGMWO_20200331_1530', 'COGMWO_20200408_1551', 'COGMWO_20200409_0550', 'COGMWO_20200409_1218', 'COGMWO_20200409_1615']\n"
     ]
    }
   ],
   "source": [
    "# query all the sites by site id\n",
    "qry = session.query(LayerData.pit_id)\n",
    "\n",
    "# filter out the Grand Mesa IOP sites (this also removes Grand Mesa Time Series sites, but okay for this example)\n",
    "qry = qry.filter(LayerData.site_name==\"Grand Mesa\") # != is \"not equal to\"\n",
    "qry = qry.filter(LayerData.site_id.in_(ts_sites))\n",
    "# execute the query\n",
    "pit_sites = qry.distinct().all()\n",
    "# clean up to print a list of sites\n",
    "pit_sites = [s[0] for s in pit_sites]\n",
    "print('list of Snow Pit sites:\\n', pit_sites)"
   ]
  },
  {
   "cell_type": "markdown",
   "id": "108088ac-8925-482c-b2b7-f62f032d383c",
   "metadata": {},
   "source": [
    "#### Using Engine Object to run the query"
   ]
  },
  {
   "cell_type": "code",
   "execution_count": 35,
   "id": "1e41bd35-3583-4f2c-8de7-bf3f08db7acc",
   "metadata": {},
   "outputs": [
    {
     "name": "stdout",
     "output_type": "stream",
     "text": [
      "SELECT DISTINCT site_id, site_name, pit_id, depth, bottom_depth, value, date FROM layers where pit_id='COGM1C14_20200131' and type = 'density' ORDER BY depth\n"
     ]
    },
    {
     "ename": "AttributeError",
     "evalue": "'LegacyCursorResult' object has no attribute 'statement'",
     "output_type": "error",
     "traceback": [
      "\u001b[0;31m---------------------------------------------------------------------------\u001b[0m",
      "\u001b[0;31mAttributeError\u001b[0m                            Traceback (most recent call last)",
      "Input \u001b[0;32mIn [35]\u001b[0m, in \u001b[0;36m<cell line: 11>\u001b[0;34m()\u001b[0m\n\u001b[1;32m      6\u001b[0m \u001b[38;5;66;03m#SELECT DISTINCT depth, bottom_depth, value , date \u001b[39;00m\n\u001b[1;32m      7\u001b[0m \u001b[38;5;66;03m#FROM public.layers WHERE pit_id = 'COGM8C22_20200131' and type = 'density' ORDER BY depth;\u001b[39;00m\n\u001b[1;32m      8\u001b[0m \n\u001b[1;32m      9\u001b[0m \u001b[38;5;66;03m# Then we execute the sql command and collect the results\u001b[39;00m\n\u001b[1;32m     10\u001b[0m results \u001b[38;5;241m=\u001b[39m engine\u001b[38;5;241m.\u001b[39mexecute(qry)\n\u001b[0;32m---> 11\u001b[0m df \u001b[38;5;241m=\u001b[39m \u001b[43mquery_to_pandas\u001b[49m\u001b[43m(\u001b[49m\u001b[43mresults\u001b[49m\u001b[43m,\u001b[49m\u001b[43mengine\u001b[49m\u001b[43m)\u001b[49m\n\u001b[1;32m     12\u001b[0m \u001b[38;5;66;03m# Create a nice readable string to print the site names using python \u001b[39;00m\n\u001b[1;32m     13\u001b[0m out \u001b[38;5;241m=\u001b[39m \u001b[38;5;124m'\u001b[39m\u001b[38;5;124m, \u001b[39m\u001b[38;5;124m'\u001b[39m\u001b[38;5;241m.\u001b[39mjoin((row[\u001b[38;5;124m'\u001b[39m\u001b[38;5;124msite_id\u001b[39m\u001b[38;5;124m'\u001b[39m] \u001b[38;5;28;01mfor\u001b[39;00m row \u001b[38;5;129;01min\u001b[39;00m results))\n",
      "File \u001b[0;32m/srv/conda/envs/notebook/lib/python3.10/site-packages/snowexsql/conversions.py:78\u001b[0m, in \u001b[0;36mquery_to_pandas\u001b[0;34m(query, engine, **kwargs)\u001b[0m\n\u001b[1;32m     67\u001b[0m \u001b[38;5;124;03m\"\"\"\u001b[39;00m\n\u001b[1;32m     68\u001b[0m \u001b[38;5;124;03mConvert a GeoAlchemy2 Query meant for postgis to a pandas dataframe.\u001b[39;00m\n\u001b[1;32m     69\u001b[0m \n\u001b[0;32m   (...)\u001b[0m\n\u001b[1;32m     75\u001b[0m \u001b[38;5;124;03m    df: pandas.DataFrame instance\u001b[39;00m\n\u001b[1;32m     76\u001b[0m \u001b[38;5;124;03m\"\"\"\u001b[39;00m\n\u001b[1;32m     77\u001b[0m \u001b[38;5;66;03m# Fill out the variables in the query\u001b[39;00m\n\u001b[0;32m---> 78\u001b[0m sql \u001b[38;5;241m=\u001b[39m \u001b[43mquery\u001b[49m\u001b[38;5;241;43m.\u001b[39;49m\u001b[43mstatement\u001b[49m\u001b[38;5;241m.\u001b[39mcompile(dialect\u001b[38;5;241m=\u001b[39mpostgresql\u001b[38;5;241m.\u001b[39mdialect())\n\u001b[1;32m     80\u001b[0m \u001b[38;5;66;03m# Get dataframe from geopandas using the query and engine\u001b[39;00m\n\u001b[1;32m     81\u001b[0m df \u001b[38;5;241m=\u001b[39m pd\u001b[38;5;241m.\u001b[39mread_sql(sql, engine, \u001b[38;5;241m*\u001b[39m\u001b[38;5;241m*\u001b[39mkwargs)\n",
      "\u001b[0;31mAttributeError\u001b[0m: 'LegacyCursorResult' object has no attribute 'statement'"
     ]
    }
   ],
   "source": [
    "# Form a typical SQL query and use python to populate the table name\n",
    "pit_id = pit_sites[0]\n",
    "\n",
    "qry = \"SELECT DISTINCT site_id, site_name, pit_id, depth, bottom_depth, value, date FROM layers where pit_id='\"+pit_id+\"' and type = 'density' ORDER BY depth\"\n",
    "print(qry)\n",
    "#SELECT DISTINCT depth, bottom_depth, value , date \n",
    "#FROM public.layers WHERE pit_id = 'COGM8C22_20200131' and type = 'density' ORDER BY depth;\n",
    "\n",
    "# Then we execute the sql command and collect the results\n",
    "results = engine.execute(qry)\n",
    "df = query_to_pandas(results,engine)\n",
    "# Create a nice readable string to print the site names using python \n",
    "out = ', '.join((row['site_id'] for row in results))\n",
    "\n",
    "# Print it with a line return for readability\n",
    "print(out + '\\n')"
   ]
  },
  {
   "cell_type": "markdown",
   "id": "ea0d7938-975b-45bf-90df-084d8c2a71fd",
   "metadata": {},
   "source": [
    "#### Using the Session Object\n",
    "\n",
    "Obviously the Engine Object didn't work out, so let's try the Session Object!"
   ]
  },
  {
   "cell_type": "code",
   "execution_count": 13,
   "id": "961fb2cc-6628-4fe2-8ae4-e8ad9c5a8ec7",
   "metadata": {},
   "outputs": [
    {
     "name": "stdout",
     "output_type": "stream",
     "text": [
      "Density DataFrame:\n",
      "       id   site_name site_id             pit_id        date   longitude  \\\n",
      "6   4780  Grand Mesa    1C14  COGM1C14_20200131  2020-01-31 -108.198415   \n",
      "5   4779  Grand Mesa    1C14  COGM1C14_20200131  2020-01-31 -108.198415   \n",
      "12  8671  Grand Mesa    1C14  COGM1C14_20200131  2020-01-31 -108.198415   \n",
      "4   4778  Grand Mesa    1C14  COGM1C14_20200131  2020-01-31 -108.198415   \n",
      "11  8670  Grand Mesa    1C14  COGM1C14_20200131  2020-01-31 -108.198415   \n",
      "3   4777  Grand Mesa    1C14  COGM1C14_20200131  2020-01-31 -108.198415   \n",
      "10  8669  Grand Mesa    1C14  COGM1C14_20200131  2020-01-31 -108.198415   \n",
      "2   4776  Grand Mesa    1C14  COGM1C14_20200131  2020-01-31 -108.198415   \n",
      "9   8668  Grand Mesa    1C14  COGM1C14_20200131  2020-01-31 -108.198415   \n",
      "1   4775  Grand Mesa    1C14  COGM1C14_20200131  2020-01-31 -108.198415   \n",
      "8   8667  Grand Mesa    1C14  COGM1C14_20200131  2020-01-31 -108.198415   \n",
      "0   4774  Grand Mesa    1C14  COGM1C14_20200131  2020-01-31 -108.198415   \n",
      "7   8666  Grand Mesa    1C14  COGM1C14_20200131  2020-01-31 -108.198415   \n",
      "\n",
      "     latitude     type  depth  bottom_depth  value  density  \n",
      "6   39.047216  density   21.0          11.0  284.0    284.0  \n",
      "5   39.047216  density   31.0          21.0  315.5    315.5  \n",
      "12  39.047216  density   31.0          21.0  315.5    315.5  \n",
      "4   39.047216  density   41.0          31.0  271.0    271.0  \n",
      "11  39.047216  density   41.0          31.0  271.0    271.0  \n",
      "3   39.047216  density   51.0          41.0  255.5    255.5  \n",
      "10  39.047216  density   51.0          41.0  255.5    255.5  \n",
      "2   39.047216  density   61.0          51.0  314.0    314.0  \n",
      "9   39.047216  density   61.0          51.0  314.0    314.0  \n",
      "1   39.047216  density   71.0          61.0  211.5    211.5  \n",
      "8   39.047216  density   71.0          61.0  211.5    211.5  \n",
      "0   39.047216  density   81.0          71.0  190.5    190.5  \n",
      "7   39.047216  density   81.0          71.0  190.5    190.5  \n",
      "Temperature DataFrame:\n",
      "     site_name site_id             pit_id        date   longitude   latitude  \\\n",
      "8  Grand Mesa    1C14  COGM1C14_20200131  2020-01-31 -108.198415  39.047216   \n",
      "7  Grand Mesa    1C14  COGM1C14_20200131  2020-01-31 -108.198415  39.047216   \n",
      "6  Grand Mesa    1C14  COGM1C14_20200131  2020-01-31 -108.198415  39.047216   \n",
      "5  Grand Mesa    1C14  COGM1C14_20200131  2020-01-31 -108.198415  39.047216   \n",
      "4  Grand Mesa    1C14  COGM1C14_20200131  2020-01-31 -108.198415  39.047216   \n",
      "3  Grand Mesa    1C14  COGM1C14_20200131  2020-01-31 -108.198415  39.047216   \n",
      "2  Grand Mesa    1C14  COGM1C14_20200131  2020-01-31 -108.198415  39.047216   \n",
      "1  Grand Mesa    1C14  COGM1C14_20200131  2020-01-31 -108.198415  39.047216   \n",
      "0  Grand Mesa    1C14  COGM1C14_20200131  2020-01-31 -108.198415  39.047216   \n",
      "\n",
      "          type  depth bottom_depth  value  temperature  \n",
      "8  temperature    0.0         None   -1.1         -1.1  \n",
      "7  temperature   10.0         None   -2.2         -2.2  \n",
      "6  temperature   20.0         None   -3.3         -3.3  \n",
      "5  temperature   30.0         None   -4.3         -4.3  \n",
      "4  temperature   40.0         None   -5.5         -5.5  \n",
      "3  temperature   50.0         None   -6.7         -6.7  \n",
      "2  temperature   60.0         None   -9.0         -9.0  \n",
      "1  temperature   70.0         None  -10.4        -10.4  \n",
      "0  temperature   81.0         None   -6.9         -6.9  \n",
      "LWC DataFrame:\n",
      "     site_name site_id             pit_id        date   longitude   latitude  \\\n",
      "5  Grand Mesa    1C14  COGM1C14_20200131  2020-01-31 -108.198415  39.047216   \n",
      "4  Grand Mesa    1C14  COGM1C14_20200131  2020-01-31 -108.198415  39.047216   \n",
      "3  Grand Mesa    1C14  COGM1C14_20200131  2020-01-31 -108.198415  39.047216   \n",
      "2  Grand Mesa    1C14  COGM1C14_20200131  2020-01-31 -108.198415  39.047216   \n",
      "1  Grand Mesa    1C14  COGM1C14_20200131  2020-01-31 -108.198415  39.047216   \n",
      "0  Grand Mesa    1C14  COGM1C14_20200131  2020-01-31 -108.198415  39.047216   \n",
      "\n",
      "      type  depth  bottom_depth value  lwc  \n",
      "5  lwc_vol   31.0          21.0   0.0  0.0  \n",
      "4  lwc_vol   41.0          31.0   0.0  0.0  \n",
      "3  lwc_vol   51.0          41.0   0.1  0.1  \n",
      "2  lwc_vol   61.0          51.0   0.0  0.0  \n",
      "1  lwc_vol   71.0          61.0   0.0  0.0  \n",
      "0  lwc_vol   81.0          71.0   0.0  0.0  \n"
     ]
    }
   ],
   "source": [
    "pit_id = pit_sites[0]\n",
    "result = session.query(LayerData.id, LayerData.site_name, LayerData.site_id, LayerData.pit_id, LayerData.date, LayerData.longitude, LayerData.latitude,\n",
    "                       LayerData.type, LayerData.depth, LayerData.bottom_depth, LayerData.value)\n",
    "result = result.filter(LayerData.pit_id == pit_id)\n",
    "result = result.filter(LayerData.type == 'density')\n",
    "result = result.distinct()\n",
    "df_density = query_to_pandas(result, engine)\n",
    "df_density['density'] = df_density['value']\n",
    "df_density['density'] = df_density['density'].astype(\"float64\")\n",
    "df_density = df_density.sort_values(by='depth')\n",
    "print('Density DataFrame:\\n', df_density)\n",
    "\n",
    "result2 = session.query(LayerData.site_name, LayerData.site_id, LayerData.pit_id, LayerData.date, LayerData.longitude, LayerData.latitude,\n",
    "                        LayerData.type, LayerData.depth, LayerData.bottom_depth, LayerData.value)\n",
    "result2 = result2.filter(LayerData.pit_id == pit_id)\n",
    "result2 = result2.filter(LayerData.type == 'temperature')\n",
    "df_temp = query_to_pandas(result2, engine)\n",
    "df_temp['temperature'] = df_temp['value']\n",
    "df_temp['temperature'] = df_temp['temperature'].astype(\"float64\")\n",
    "df_temp = df_temp.sort_values(by='depth')\n",
    "print('Temperature DataFrame:\\n', df_temp)\n",
    "\n",
    "result3 = session.query(LayerData.site_name, LayerData.site_id, LayerData.pit_id, LayerData.date, LayerData.longitude, LayerData.latitude,\n",
    "                        LayerData.type, LayerData.depth, LayerData.bottom_depth, LayerData.value)\n",
    "result3 = result3.filter(LayerData.pit_id == pit_id)\n",
    "result3 = result3.filter(LayerData.type == 'lwc_vol')\n",
    "df_lwc = query_to_pandas(result3, engine)\n",
    "df_lwc['lwc'] = df_lwc['value']\n",
    "df_lwc['lwc'] = df_lwc['lwc'].astype(\"float64\")\n",
    "df_lwc = df_lwc.sort_values(by='depth')\n",
    "print('LWC DataFrame:\\n', df_lwc)"
   ]
  },
  {
   "cell_type": "markdown",
   "id": "c6fd1f7a-1e85-4d99-8dc9-f9f3432448a3",
   "metadata": {},
   "source": [
    "I have three dataframe objects each of which contains the values of denisty, temperature and LWC for layers of a single pit. \\\n",
    "What I want to do next?\n",
    "- Find this information for all snow pits with no trees at the Grand Mesa site.\n",
    "- Combine the three dataframes into one that has three extra columns with values of density, temperature and LWC.\n",
    "- Also, create a new column that contains the total length of a snow pit."
   ]
  },
  {
   "cell_type": "code",
   "execution_count": null,
   "id": "7791d27d-6825-43dc-aa90-84855fc0b8c5",
   "metadata": {},
   "outputs": [],
   "source": [
    "# What I believe the SQL query to get the data would look like\n",
    "select l1.site_id, l1.site_name, l1.pit_id, l1.longitude, l1.latitude, l1.date, l1.depth, l1.bottom_depth,\n",
    "l1.values as 'density', l2. depth as 'temp_depth', l2.value as 'temperature'\n",
    "from LayerData l1 join Layerdata l2 on l1.id = l2.id\n",
    "where l1.type = \"density\"\n",
    "and l2.type = \"temperature\"\n",
    "and l1.pit_id = l2.pit_id\n",
    "and l2.depth > l1.bottom_depth\n",
    "and l2.depth <= l1.depth\n",
    "\n",
    "#(Also need to include site name as Grand Mesa and Tree Canopy to No Trees from Site Table)\n",
    "\n",
    "# Questions I have?\n",
    "# How to join tables using Session Object\n",
    "# How to convert the Engine Object result to dataframe\n",
    "# Or just chuck SQL and figure out a way to merge the data in Python by pivotting the tables?"
   ]
  },
  {
   "cell_type": "code",
   "execution_count": 17,
   "id": "dae45b62-1030-4517-b19b-84073fd6d21d",
   "metadata": {},
   "outputs": [
    {
     "data": {
      "text/plain": [
       "0     20200312\n",
       "1     20200204\n",
       "2     20200307\n",
       "3     20200406\n",
       "4     20200219\n",
       "5     20200226\n",
       "6     20200130\n",
       "7     20200201\n",
       "8     20200422\n",
       "9     20200209\n",
       "10    20200419\n",
       "11    20200331\n",
       "12    20200206\n",
       "13    20200305\n",
       "14    20200131\n",
       "15    20200122\n",
       "16    20200212\n",
       "17    20200318\n",
       "18    20200208\n",
       "19    20191220\n",
       "20    20200205\n",
       "21    20200128\n",
       "22    20200421\n",
       "23    20191219\n",
       "24    20200211\n",
       "25    20200328\n",
       "26    20200210\n",
       "27    20200304\n",
       "28    20200409\n",
       "29    20200321\n",
       "30    20200316\n",
       "31    20200225\n",
       "32    20200408\n",
       "33    20200325\n",
       "34    20200129\n",
       "Name: date, dtype: object"
      ]
     },
     "execution_count": 17,
     "metadata": {},
     "output_type": "execute_result"
    }
   ],
   "source": [
    "import pandas as pd\n",
    "import datetime\n",
    "\n",
    "df = pd.read_csv('GrandMesaDates.csv')\n",
    "df['date'] = pd.to_datetime(df['date'])\n",
    "df.date.apply(lambda x: x.strftime('%Y%m%d')).astype(str)\n"
   ]
  }
 ],
 "metadata": {
  "kernelspec": {
   "display_name": "Python 3 (ipykernel)",
   "language": "python",
   "name": "python3"
  },
  "language_info": {
   "codemirror_mode": {
    "name": "ipython",
    "version": 3
   },
   "file_extension": ".py",
   "mimetype": "text/x-python",
   "name": "python",
   "nbconvert_exporter": "python",
   "pygments_lexer": "ipython3",
   "version": "3.10.5"
  }
 },
 "nbformat": 4,
 "nbformat_minor": 5
}
