{
 "cells": [
  {
   "cell_type": "code",
   "execution_count": 5,
   "id": "a761ec39-30e5-457f-8ab7-a4b43bb0da0f",
   "metadata": {},
   "outputs": [
    {
     "ename": "SyntaxError",
     "evalue": "invalid syntax (2944938279.py, line 2)",
     "output_type": "error",
     "traceback": [
      "\u001b[0;36m  Input \u001b[0;32mIn [5]\u001b[0;36m\u001b[0m\n\u001b[0;31m    pip install helper\u001b[0m\n\u001b[0m        ^\u001b[0m\n\u001b[0;31mSyntaxError\u001b[0m\u001b[0;31m:\u001b[0m invalid syntax\n"
     ]
    }
   ],
   "source": [
    "#install helper package\n",
    "pip install helper"
   ]
  },
  {
   "cell_type": "code",
   "execution_count": 2,
   "id": "11e5b88a-f956-45d8-9aaa-169cc8c5b035",
   "metadata": {},
   "outputs": [],
   "source": [
    "# Import several libraries. \n",
    "# comments to the right could be useful for local installation on Windows.\n",
    "\n",
    "from shapely import speedups      # https://www.lfd.uci.edu/~gohlke/pythonlibs/\n",
    "speedups.disable()                # <-- handle a potential error in cartopy\n",
    "\n",
    "import requests                   # !conda install -c anaconda requests \n",
    "\n",
    "# raster manipulation libraries\n",
    "import rasterio                   # https://www.lfd.uci.edu/~gohlke/pythonlibs/\n",
    "from osgeo import gdal            # https://www.lfd.uci.edu/~gohlke/pythonlibs/\n",
    "import cartopy.crs as ccrs        # https://www.lfd.uci.edu/~gohlke/pythonlibs/\n",
    "import rioxarray as rxr           # !conda install -c conda-forge rioxarray\n",
    "import xarray as xr               # !conda install -c conda-forge xarray dask netCDF4 bottleneck\n",
    "\n",
    "# plotting tools\n",
    "from matplotlib import pyplot     # !conda install matplotlib\n",
    "import datashader as ds           # https://www.lfd.uci.edu/~gohlke/pythonlibs/\n",
    "import hvplot.xarray              # !conda install hvplot\n",
    "\n",
    "# append the subfolders of the current working directory to pythons path\n",
    "\n",
    "import os\n",
    "import sys\n",
    "import helper\n",
    "\n",
    "swesarr_subdirs = [\"data\", \"util\"]\n",
    "tmp = [sys.path.append(os.getcwd() + \"/\" + sd) for sd in swesarr_subdirs]\n",
    "del tmp # suppress Jupyter notebook output, delete variable"
   ]
  },
  {
   "cell_type": "code",
   "execution_count": 4,
   "id": "da589460-35f6-445c-ace1-66151c2f8eee",
   "metadata": {},
   "outputs": [
    {
     "name": "stdout",
     "output_type": "stream",
     "text": [
      "output directory prepared!\n"
     ]
    }
   ],
   "source": [
    "# select files to download\n",
    "\n",
    "# SWESARR data website\n",
    "source_repo = 'https://glihtdata.gsfc.nasa.gov/files/radar/SWESARR/prerelease/'\n",
    "\n",
    "# Example flight line\n",
    "flight_line = 'GRMCT2_31801_20007_016_200211_225_XX_01/'\n",
    "\n",
    "# SAR files within this folder\n",
    "data_files = [\n",
    "    'GRMCT2_31801_20007_016_200211_09225VV_XX_01.tif',\n",
    "    'GRMCT2_31801_20007_016_200211_09225VH_XX_01.tif',\n",
    "    'GRMCT2_31801_20007_016_200211_13225VV_XX_01.tif',\n",
    "    'GRMCT2_31801_20007_016_200211_13225VH_XX_01.tif',\n",
    "    'GRMCT2_31801_20007_016_200211_17225VV_XX_01.tif',\n",
    "    'GRMCT2_31801_20007_016_200211_17225VH_XX_01.tif'\n",
    "]\n",
    "\n",
    "# store the location of the SAR tiles as they're located on the SWESARR data server\n",
    "remote_tiles = [source_repo + flight_line + d for d in data_files]\n",
    "\n",
    "# create local output data directory\n",
    "output_dir = os.getcwd() + '/data/'\n",
    "try:\n",
    "    os.makedirs(output_dir)\n",
    "    print('succesful import')\n",
    "except FileExistsError:\n",
    "    print('output directory prepared!')\n",
    "\n",
    "# store individual TIF files locally on our computer / server\n",
    "output_paths = [output_dir + d for d in data_files]"
   ]
  },
  {
   "cell_type": "code",
   "execution_count": null,
   "id": "e84621c2-97c5-447b-9218-37ce761098d7",
   "metadata": {},
   "outputs": [],
   "source": []
  }
 ],
 "metadata": {
  "kernelspec": {
   "display_name": "Python 3 (ipykernel)",
   "language": "python",
   "name": "python3"
  },
  "language_info": {
   "codemirror_mode": {
    "name": "ipython",
    "version": 3
   },
   "file_extension": ".py",
   "mimetype": "text/x-python",
   "name": "python",
   "nbconvert_exporter": "python",
   "pygments_lexer": "ipython3",
   "version": "3.10.5"
  }
 },
 "nbformat": 4,
 "nbformat_minor": 5
}
