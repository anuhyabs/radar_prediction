{
 "cells": [
  {
   "cell_type": "code",
   "execution_count": 1,
   "id": "a761ec39-30e5-457f-8ab7-a4b43bb0da0f",
   "metadata": {},
   "outputs": [
    {
     "name": "stdout",
     "output_type": "stream",
     "text": [
      "Requirement already satisfied: helper in /srv/conda/envs/notebook/lib/python3.10/site-packages (2.5.0)\n",
      "Requirement already satisfied: pyyaml in /srv/conda/envs/notebook/lib/python3.10/site-packages (from helper) (6.0)\n"
     ]
    }
   ],
   "source": [
    "#install helper package\n",
    "#!pip install helper"
   ]
  },
  {
   "cell_type": "code",
   "execution_count": 4,
   "id": "11e5b88a-f956-45d8-9aaa-169cc8c5b035",
   "metadata": {},
   "outputs": [
    {
     "ename": "ImportError",
     "evalue": "cannot import name 'gdal_corners' from 'helper' (/srv/conda/envs/notebook/lib/python3.10/site-packages/helper/__init__.py)",
     "output_type": "error",
     "traceback": [
      "\u001b[0;31m---------------------------------------------------------------------------\u001b[0m",
      "\u001b[0;31mImportError\u001b[0m                               Traceback (most recent call last)",
      "Input \u001b[0;32mIn [4]\u001b[0m, in \u001b[0;36m<cell line: 30>\u001b[0;34m()\u001b[0m\n\u001b[1;32m     27\u001b[0m tmp \u001b[38;5;241m=\u001b[39m [sys\u001b[38;5;241m.\u001b[39mpath\u001b[38;5;241m.\u001b[39mappend(os\u001b[38;5;241m.\u001b[39mgetcwd() \u001b[38;5;241m+\u001b[39m \u001b[38;5;124m\"\u001b[39m\u001b[38;5;124m/\u001b[39m\u001b[38;5;124m\"\u001b[39m \u001b[38;5;241m+\u001b[39m sd) \u001b[38;5;28;01mfor\u001b[39;00m sd \u001b[38;5;129;01min\u001b[39;00m swesarr_subdirs]\n\u001b[1;32m     28\u001b[0m \u001b[38;5;28;01mdel\u001b[39;00m tmp \u001b[38;5;66;03m# suppress Jupyter notebook output, delete variable\u001b[39;00m\n\u001b[0;32m---> 30\u001b[0m \u001b[38;5;28;01mfrom\u001b[39;00m \u001b[38;5;21;01mhelper\u001b[39;00m \u001b[38;5;28;01mimport\u001b[39;00m gdal_corners, join_files, join_sar_radiom\n",
      "\u001b[0;31mImportError\u001b[0m: cannot import name 'gdal_corners' from 'helper' (/srv/conda/envs/notebook/lib/python3.10/site-packages/helper/__init__.py)"
     ]
    }
   ],
   "source": [
    "# Import several libraries. \n",
    "# comments to the right could be useful for local installation on Windows.\n",
    "\n",
    "from shapely import speedups      # https://www.lfd.uci.edu/~gohlke/pythonlibs/\n",
    "speedups.disable()                # <-- handle a potential error in cartopy\n",
    "\n",
    "import requests                   # !conda install -c anaconda requests \n",
    "\n",
    "# raster manipulation libraries\n",
    "import rasterio                   # https://www.lfd.uci.edu/~gohlke/pythonlibs/\n",
    "from osgeo import gdal            # https://www.lfd.uci.edu/~gohlke/pythonlibs/\n",
    "import cartopy.crs as ccrs        # https://www.lfd.uci.edu/~gohlke/pythonlibs/\n",
    "import rioxarray as rxr           # !conda install -c conda-forge rioxarray\n",
    "import xarray as xr               # !conda install -c conda-forge xarray dask netCDF4 bottleneck\n",
    "\n",
    "# plotting tools\n",
    "from matplotlib import pyplot     # !conda install matplotlib\n",
    "import datashader as ds           # https://www.lfd.uci.edu/~gohlke/pythonlibs/\n",
    "import hvplot.xarray              # !conda install hvplot\n",
    "\n",
    "# append the subfolders of the current working directory to pythons path\n",
    "\n",
    "import os\n",
    "import sys\n",
    "\n",
    "swesarr_subdirs = [\"data\", \"util\"]\n",
    "tmp = [sys.path.append(os.getcwd() + \"/\" + sd) for sd in swesarr_subdirs]\n",
    "del tmp # suppress Jupyter notebook output, delete variable\n",
    "\n",
    "from helper import gdal_corners, join_files, join_sar_radiom"
   ]
  },
  {
   "cell_type": "code",
   "execution_count": 6,
   "id": "d036bdae-f4ce-432a-8ab3-9215e9635cab",
   "metadata": {},
   "outputs": [],
   "source": [
    "# Import several libraries. \n",
    "# comments to the right could be useful for local installation on Windows.\n",
    "\n",
    "from shapely import speedups      # https://www.lfd.uci.edu/~gohlke/pythonlibs/\n",
    "speedups.disable()                # <-- handle a potential error in cartopy\n",
    "\n",
    "import requests                   # !conda install -c anaconda requests \n",
    "\n",
    "# raster manipulation libraries\n",
    "import rasterio                   # https://www.lfd.uci.edu/~gohlke/pythonlibs/\n",
    "from osgeo import gdal            # https://www.lfd.uci.edu/~gohlke/pythonlibs/\n",
    "import cartopy.crs as ccrs        # https://www.lfd.uci.edu/~gohlke/pythonlibs/\n",
    "import rioxarray as rxr           # !conda install -c conda-forge rioxarray\n",
    "import xarray as xr               # !conda install -c conda-forge xarray dask netCDF4 bottleneck\n",
    "\n",
    "# plotting tools\n",
    "from matplotlib import pyplot     # !conda install matplotlib\n",
    "import datashader as ds           # https://www.lfd.uci.edu/~gohlke/pythonlibs/\n",
    "import hvplot.xarray              # !conda install hvplot\n",
    "\n",
    "# append the subfolders of the current working directory to pythons path\n",
    "\n",
    "import os\n",
    "import sys\n",
    "\n",
    "swesarr_subdirs = [\"data\", \"util\"]\n",
    "tmp = [sys.path.append(os.getcwd() + \"/\" + sd) for sd in swesarr_subdirs]\n",
    "del tmp # suppress Jupyter notebook output, delete variable\n",
    "\n",
    "from helper import *"
   ]
  },
  {
   "cell_type": "code",
   "execution_count": 7,
   "id": "da589460-35f6-445c-ace1-66151c2f8eee",
   "metadata": {},
   "outputs": [
    {
     "name": "stdout",
     "output_type": "stream",
     "text": [
      "succesful import\n"
     ]
    }
   ],
   "source": [
    "# select files to download\n",
    "\n",
    "# SWESARR data website\n",
    "source_repo = 'https://glihtdata.gsfc.nasa.gov/files/radar/SWESARR/prerelease/'\n",
    "\n",
    "# Example flight line\n",
    "flight_line = 'GRMCT2_31801_20007_016_200211_225_XX_01/'\n",
    "\n",
    "# SAR files within this folder\n",
    "data_files = [\n",
    "    'GRMCT2_31801_20007_016_200211_09225VV_XX_01.tif',\n",
    "    'GRMCT2_31801_20007_016_200211_09225VH_XX_01.tif',\n",
    "    'GRMCT2_31801_20007_016_200211_13225VV_XX_01.tif',\n",
    "    'GRMCT2_31801_20007_016_200211_13225VH_XX_01.tif',\n",
    "    'GRMCT2_31801_20007_016_200211_17225VV_XX_01.tif',\n",
    "    'GRMCT2_31801_20007_016_200211_17225VH_XX_01.tif'\n",
    "]\n",
    "\n",
    "# store the location of the SAR tiles as they're located on the SWESARR data server\n",
    "remote_tiles = [source_repo + flight_line + d for d in data_files]\n",
    "\n",
    "# create local output data directory\n",
    "output_dir = os.getcwd() + '/data/'\n",
    "try:\n",
    "    os.makedirs(output_dir)\n",
    "    print('succesful import')\n",
    "except FileExistsError:\n",
    "    print('output directory prepared!')\n",
    "\n",
    "# store individual TIF files locally on our computer / server\n",
    "output_paths = [output_dir + d for d in data_files]"
   ]
  },
  {
   "cell_type": "code",
   "execution_count": 8,
   "id": "e84621c2-97c5-447b-9218-37ce761098d7",
   "metadata": {},
   "outputs": [],
   "source": [
    "##    for each file selected, store the data locally \n",
    "##\n",
    "##    only run this block if you want to store data on the current \n",
    "##    server/hard drive this notebook is located.\n",
    "##\n",
    "################################################################\n",
    "\n",
    "for remote_tile, output_path in zip(remote_tiles, output_paths):\n",
    "    \n",
    "    # download data\n",
    "    r = requests.get(remote_tile)\n",
    "\n",
    "    # Store data (~= 65 MB/file)\n",
    "    if r.status_code == 200:\n",
    "        with open(output_path, 'wb') as f:\n",
    "            f.write(r.content)"
   ]
  },
  {
   "cell_type": "code",
   "execution_count": 10,
   "id": "d36bde9c-8cd8-4acc-960b-9a87d55b08e4",
   "metadata": {},
   "outputs": [
    {
     "ename": "NameError",
     "evalue": "name 'helper' is not defined",
     "output_type": "error",
     "traceback": [
      "\u001b[0;31m---------------------------------------------------------------------------\u001b[0m",
      "\u001b[0;31mNameError\u001b[0m                                 Traceback (most recent call last)",
      "Input \u001b[0;32mIn [10]\u001b[0m, in \u001b[0;36m<cell line: 1>\u001b[0;34m()\u001b[0m\n\u001b[0;32m----> 1\u001b[0m da \u001b[38;5;241m=\u001b[39m \u001b[43mhelper\u001b[49m\u001b[38;5;241m.\u001b[39mjoin_files(output_paths)\n\u001b[1;32m      2\u001b[0m da\n",
      "\u001b[0;31mNameError\u001b[0m: name 'helper' is not defined"
     ]
    }
   ],
   "source": [
    "da = helper.join_files(output_paths)\n",
    "da"
   ]
  },
  {
   "cell_type": "code",
   "execution_count": null,
   "id": "3b2cd507-88a6-4c3d-95c4-e3fcc672ea97",
   "metadata": {},
   "outputs": [],
   "source": []
  }
 ],
 "metadata": {
  "kernelspec": {
   "display_name": "Python 3 (ipykernel)",
   "language": "python",
   "name": "python3"
  },
  "language_info": {
   "codemirror_mode": {
    "name": "ipython",
    "version": 3
   },
   "file_extension": ".py",
   "mimetype": "text/x-python",
   "name": "python",
   "nbconvert_exporter": "python",
   "pygments_lexer": "ipython3",
   "version": "3.10.5"
  }
 },
 "nbformat": 4,
 "nbformat_minor": 5
}
