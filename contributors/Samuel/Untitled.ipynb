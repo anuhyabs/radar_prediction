{
 "cells": [
  {
   "cell_type": "code",
   "execution_count": 11,
   "id": "a14db58b-d743-4c3f-ba92-e809b24d07c1",
   "metadata": {},
   "outputs": [],
   "source": [
    "import numpy as pandas"
   ]
  },
  {
   "cell_type": "code",
   "execution_count": 12,
   "id": "7907af6c-08e7-4b88-a81a-3d86d9255190",
   "metadata": {},
   "outputs": [],
   "source": [
    "# Import several libraries. \n",
    "# comments to the right could be useful for local installation on Windows.\n",
    "\n",
    "from shapely import speedups      # https://www.lfd.uci.edu/~gohlke/pythonlibs/\n",
    "speedups.disable()                # <-- handle a potential error in cartopy\n",
    "\n",
    "import requests                   # !conda install -c anaconda requests \n",
    "\n",
    "# raster manipulation libraries\n",
    "import rasterio                   # https://www.lfd.uci.edu/~gohlke/pythonlibs/\n",
    "from osgeo import gdal            # https://www.lfd.uci.edu/~gohlke/pythonlibs/\n",
    "import cartopy.crs as ccrs        # https://www.lfd.uci.edu/~gohlke/pythonlibs/\n",
    "import rioxarray as rxr           # !conda install -c conda-forge rioxarray\n",
    "import xarray as xr               # !conda install -c conda-forge xarray dask netCDF4 bottleneck\n",
    "\n",
    "# plotting tools\n",
    "from matplotlib import pyplot     # !conda install matplotlib\n",
    "import datashader as ds           # https://www.lfd.uci.edu/~gohlke/pythonlibs/\n",
    "import hvplot.xarray              # !conda install hvplot\n",
    "\n",
    "# append the subfolders of the current working directory to pythons path\n",
    "\n",
    "import os\n",
    "import sys\n",
    "\n",
    "swesarr_subdirs = [\"data\", \"util\"]\n",
    "tmp = [sys.path.append(os.getcwd() + \"/\" + sd) for sd in swesarr_subdirs]\n",
    "del tmp # suppress Jupyter notebook output, delete variable\n",
    "\n",
    "from helper import *"
   ]
  },
  {
   "cell_type": "code",
   "execution_count": 13,
   "id": "527e37d0-245b-49b7-a0f1-1b8052d23c24",
   "metadata": {},
   "outputs": [
    {
     "name": "stdout",
     "output_type": "stream",
     "text": [
      "--2022-07-14 00:17:54--  https://raw.githubusercontent.com/udacity/deep-learning-v2-pytorch/master/intro-to-pytorch/helper.py\n",
      "Resolving raw.githubusercontent.com (raw.githubusercontent.com)... 185.199.109.133, 185.199.108.133, 185.199.111.133, ...\n",
      "Connecting to raw.githubusercontent.com (raw.githubusercontent.com)|185.199.109.133|:443... connected.\n",
      "HTTP request sent, awaiting response... 416 Range Not Satisfiable\n",
      "\n",
      "    The file is already fully retrieved; nothing to do.\n",
      "\n"
     ]
    }
   ],
   "source": [
    "!wget -c https://raw.githubusercontent.com/udacity/deep-learning-v2-pytorch/master/intro-to-pytorch/helper.py\n"
   ]
  },
  {
   "cell_type": "code",
   "execution_count": 8,
   "id": "2d5bd21a-6147-4a28-9470-45bacc1e4d3d",
   "metadata": {},
   "outputs": [
    {
     "ename": "NameError",
     "evalue": "name 'helper' is not defined",
     "output_type": "error",
     "traceback": [
      "\u001b[0;31m---------------------------------------------------------------------------\u001b[0m",
      "\u001b[0;31mNameError\u001b[0m                                 Traceback (most recent call last)",
      "Input \u001b[0;32mIn [8]\u001b[0m, in \u001b[0;36m<cell line: 2>\u001b[0;34m()\u001b[0m\n\u001b[1;32m      1\u001b[0m \u001b[38;5;28;01mimport\u001b[39;00m \u001b[38;5;21;01mimportlib\u001b[39;00m\n\u001b[0;32m----> 2\u001b[0m importlib\u001b[38;5;241m.\u001b[39mreload(\u001b[43mhelper\u001b[49m)\n",
      "\u001b[0;31mNameError\u001b[0m: name 'helper' is not defined"
     ]
    }
   ],
   "source": [
    "import importlib\n",
    "importlib.reload(helper)"
   ]
  },
  {
   "cell_type": "code",
   "execution_count": 9,
   "id": "658cd829-dc33-475e-bb39-b56ed47cbc5b",
   "metadata": {},
   "outputs": [
    {
     "ename": "NameError",
     "evalue": "name 'helper' is not defined",
     "output_type": "error",
     "traceback": [
      "\u001b[0;31m---------------------------------------------------------------------------\u001b[0m",
      "\u001b[0;31mNameError\u001b[0m                                 Traceback (most recent call last)",
      "Input \u001b[0;32mIn [9]\u001b[0m, in \u001b[0;36m<cell line: 1>\u001b[0;34m()\u001b[0m\n\u001b[0;32m----> 1\u001b[0m \u001b[43mhelper\u001b[49m\n",
      "\u001b[0;31mNameError\u001b[0m: name 'helper' is not defined"
     ]
    }
   ],
   "source": [
    "helper"
   ]
  },
  {
   "cell_type": "code",
   "execution_count": null,
   "id": "27fb30c6-ec5b-4264-ab78-260e3e8cbcb4",
   "metadata": {},
   "outputs": [],
   "source": []
  }
 ],
 "metadata": {
  "kernelspec": {
   "display_name": "Python 3 (ipykernel)",
   "language": "python",
   "name": "python3"
  },
  "language_info": {
   "codemirror_mode": {
    "name": "ipython",
    "version": 3
   },
   "file_extension": ".py",
   "mimetype": "text/x-python",
   "name": "python",
   "nbconvert_exporter": "python",
   "pygments_lexer": "ipython3",
   "version": "3.10.5"
  }
 },
 "nbformat": 4,
 "nbformat_minor": 5
}
