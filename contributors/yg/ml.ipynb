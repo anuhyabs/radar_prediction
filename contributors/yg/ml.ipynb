{
 "cells": [
  {
   "cell_type": "code",
   "execution_count": 1,
   "id": "1dfca3e9-a03f-49f1-8751-d4709cb6d76d",
   "metadata": {},
   "outputs": [],
   "source": [
    "from sklearn.pipeline import Pipeline\n",
    "from sklearn.ensemble import RandomForestRegressor\n",
    "from sklearn.tree import DecisionTreeRegressor, plot_tree\n",
    "from sklearn.model_selection import train_test_split, GridSearchCV\n",
    "from sklearn.preprocessing import MinMaxScaler\n",
    "from sklearn.metrics import mean_squared_error, r2_score, mean_absolute_percentage_error, mean_absolute_error\n",
    "import os\n",
    "import time\n",
    "import pickle\n",
    "import numpy as np\n",
    "import pandas as pd\n",
    "import seaborn as sns\n",
    "import matplotlib.pyplot as plt"
   ]
  },
  {
   "cell_type": "code",
   "execution_count": null,
   "id": "54efa14e-9a2d-4e27-ae28-0a097a1e0b88",
   "metadata": {},
   "outputs": [],
   "source": [
    "train_dataset = dataset.sample(frac=0.8, random_state=0)\n",
    "test_dataset = dataset.drop(train_dataset.index)"
   ]
  },
  {
   "cell_type": "code",
   "execution_count": null,
   "id": "f06c35cb-67ed-4d31-8c8c-1c69eae6e9b9",
   "metadata": {},
   "outputs": [],
   "source": [
    "scaler = MinMaxScaler()\n",
    "scaled_train_features = scaler.fit_transform(train_dataset.drop(columns=['snow_depth']))\n",
    "scaled_test_features = scaler.transform(test_dataset.drop(columns=['snow_depth']))"
   ]
  },
  {
   "cell_type": "code",
   "execution_count": null,
   "id": "cda1db43-de05-4ab2-87f3-6b8436418267",
   "metadata": {},
   "outputs": [],
   "source": [
    "train_X, train_y = scaled_train_features[:, :-1], train_dataset['snow_depth']\n",
    "test_X, test_y = scaled_test_features[:, :-1], train_dataset['snow_depth']\n",
    "                                                                                   ## transform uses the parameters of fit_transform"
   ]
  },
  {
   "cell_type": "code",
   "execution_count": null,
   "id": "4c737a8a-4a83-4c47-aada-1180b2a9379c",
   "metadata": {},
   "outputs": [],
   "source": [
    "rf = RandomForestRegressor(max_depth=4,random_state=0)\n",
    "\n",
    "rf.fit(train_dataset.drop(columns=['snow_depth']), \n",
    "         train_dataset['snow_depth'])\n",
    "\n",
    "rf.predict(sample)"
   ]
  },
  {
   "cell_type": "code",
   "execution_count": null,
   "id": "668ba66d-7062-4ca0-8785-d3b58d74fb56",
   "metadata": {},
   "outputs": [],
   "source": [
    "error = mean_squared_error(test_price, pred, squared=False)"
   ]
  },
  {
   "cell_type": "code",
   "execution_count": null,
   "id": "9d86feef-7687-455c-8ddf-885afbc15df0",
   "metadata": {},
   "outputs": [],
   "source": [
    "features = list(train_dataset.columns[:-1])\n",
    "\n",
    "feature_impotanceRF = pd.Series(rf.feature_importances_, index=features)\n",
    "feature_impotanceRF.plot(kind = 'bar')\n",
    "plt.xlabel('Feature')\n",
    "plt.ylabel('Importance Score')\n",
    "plt.show()"
   ]
  }
 ],
 "metadata": {
  "kernelspec": {
   "display_name": "Python 3 (ipykernel)",
   "language": "python",
   "name": "python3"
  },
  "language_info": {
   "codemirror_mode": {
    "name": "ipython",
    "version": 3
   },
   "file_extension": ".py",
   "mimetype": "text/x-python",
   "name": "python",
   "nbconvert_exporter": "python",
   "pygments_lexer": "ipython3",
   "version": "3.10.5"
  }
 },
 "nbformat": 4,
 "nbformat_minor": 5
}
