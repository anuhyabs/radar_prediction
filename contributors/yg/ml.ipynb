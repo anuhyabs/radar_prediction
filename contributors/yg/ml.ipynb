{
 "cells": [
  {
   "cell_type": "code",
   "execution_count": 7,
   "id": "1dfca3e9-a03f-49f1-8751-d4709cb6d76d",
   "metadata": {},
   "outputs": [],
   "source": [
    "import os\n",
    "import time\n",
    "import pickle\n",
    "import numpy as np\n",
    "import pandas as pd\n",
    "import seaborn as sns\n",
    "import matplotlib.pyplot as plt\n",
    "from sklearn.pipeline import Pipeline\n",
    "from sklearn.ensemble import RandomForestRegressor\n",
    "from sklearn.tree import DecisionTreeRegressor, plot_tree\n",
    "from sklearn.model_selection import train_test_split, GridSearchCV\n",
    "from sklearn.preprocessing import MinMaxScaler\n",
    "from sklearn.metrics import mean_squared_error, r2_score, mean_absolute_percentage_error, mean_absolute_error"
   ]
  },
  {
   "cell_type": "code",
   "execution_count": 18,
   "id": "90c29e24-5585-40f7-887b-4ae73f43dd6a",
   "metadata": {},
   "outputs": [
    {
     "name": "stdout",
     "output_type": "stream",
     "text": [
      "     height  grain_size     density  temperature         y\n",
      "0        83    1.375000  249.388889    -5.710000  0.058522\n",
      "1        77    1.571429  289.187500    -4.822222  0.058522\n",
      "2        81    2.150000  263.142857    -5.488889  0.036172\n",
      "3        75    1.416667  302.833333    -6.577778  0.019296\n",
      "4        96    1.750000  277.833333    -5.990909  0.023656\n",
      "..      ...         ...         ...          ...       ...\n",
      "120     141    1.350000  336.511111    -0.611765  0.069718\n",
      "121     130    1.277778  332.000000    -0.692857  0.044672\n",
      "122     107    1.611111  319.378788    -2.284615  0.044672\n",
      "123     109    1.812500  334.066667    -0.275000  0.044672\n",
      "124     121    1.785714  352.121212    -0.300000  0.044672\n",
      "\n",
      "[125 rows x 5 columns]\n"
     ]
    }
   ],
   "source": [
    "df = pd.read_csv ('final_data.csv')\n",
    "df = df[['height', 'grain_size', 'density', 'temperature', 'y']]"
   ]
  },
  {
   "cell_type": "code",
   "execution_count": 16,
   "id": "54efa14e-9a2d-4e27-ae28-0a097a1e0b88",
   "metadata": {},
   "outputs": [],
   "source": [
    "train_dataset = df.sample(frac=0.8, random_state=0)\n",
    "test_dataset = df.drop(train_dataset.index)"
   ]
  },
  {
   "cell_type": "code",
   "execution_count": null,
   "id": "f06c35cb-67ed-4d31-8c8c-1c69eae6e9b9",
   "metadata": {},
   "outputs": [],
   "source": [
    "scaler = MinMaxScaler()\n",
    "train_dataset = scaler.fit_transform(train_dataset.drop(columns=['y']))\n",
    "test_dataset = scaler.transform(test_dataset.drop(columns=['y']))"
   ]
  },
  {
   "cell_type": "code",
   "execution_count": null,
   "id": "4c737a8a-4a83-4c47-aada-1180b2a9379c",
   "metadata": {},
   "outputs": [],
   "source": [
    "rf = RandomForestRegressor(max_depth=4,random_state=0)\n",
    "\n",
    "rf.fit(train_dataset.drop(columns=['y']), train_dataset['y'])\n",
    "\n",
    "pred = rf.predict()"
   ]
  },
  {
   "cell_type": "code",
   "execution_count": null,
   "id": "668ba66d-7062-4ca0-8785-d3b58d74fb56",
   "metadata": {},
   "outputs": [],
   "source": [
    "error = mean_squared_error(test_price, pred, squared=False)"
   ]
  },
  {
   "cell_type": "code",
   "execution_count": null,
   "id": "9d86feef-7687-455c-8ddf-885afbc15df0",
   "metadata": {},
   "outputs": [],
   "source": [
    "features = list(train_dataset.columns[:-1])\n",
    "\n",
    "feature_impotanceRF = pd.Series(rf.feature_importances_, index=features)\n",
    "feature_impotanceRF.plot(kind = 'bar')\n",
    "plt.xlabel('Feature')\n",
    "plt.ylabel('Importance Score')\n",
    "plt.show()"
   ]
  }
 ],
 "metadata": {
  "kernelspec": {
   "display_name": "Python 3 (ipykernel)",
   "language": "python",
   "name": "python3"
  },
  "language_info": {
   "codemirror_mode": {
    "name": "ipython",
    "version": 3
   },
   "file_extension": ".py",
   "mimetype": "text/x-python",
   "name": "python",
   "nbconvert_exporter": "python",
   "pygments_lexer": "ipython3",
   "version": "3.10.5"
  }
 },
 "nbformat": 4,
 "nbformat_minor": 5
}
